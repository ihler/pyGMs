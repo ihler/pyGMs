{
 "cells": [
  {
   "cell_type": "markdown",
   "metadata": {},
   "source": [
    "# pyGMs Introduction: Message Passing Approximations"
   ]
  },
  {
   "cell_type": "code",
   "execution_count": 1,
   "metadata": {},
   "outputs": [],
   "source": [
    "import numpy as np\n",
    "import pyGMs as gm\n",
    "import matplotlib.pyplot as plt"
   ]
  },
  {
   "cell_type": "markdown",
   "metadata": {},
   "source": [
    "... Message passing ...\n",
    "\n",
    "### <span style=\"color:red\"> TODO: Convert implementations to stateful objects </span>"
   ]
  },
  {
   "cell_type": "markdown",
   "metadata": {},
   "source": [
    "### Example Model\n",
    "\n",
    "Let us first build a simple graphical model on which to perform our inference tasks:"
   ]
  },
  {
   "cell_type": "code",
   "execution_count": 2,
   "metadata": {},
   "outputs": [
    {
     "data": {
      "image/png": "[encoded data removed]",
      "text/plain": [
       "<Figure size 360x216 with 1 Axes>"
      ]
     },
     "metadata": {},
     "output_type": "display_data"
    }
   ],
   "source": [
    "h,w = 3,4\n",
    "X = [gm.Var(i,3) for i in range(h*w)]\n",
    "tab = np.array([[1,0,0],[0,.9,0],[0,0,.8]])+.1\n",
    "factors  = [gm.Factor([X[h*i+j],X[h*i+j+1]],tab) for i in range(w) for j in range(h-1)]\n",
    "factors += [gm.Factor([X[h*i+j],X[h*i+j+h]],tab) for i in range(w-1) for j in range(h)]\n",
    "\n",
    "pos = {i:(i//h,-(i%h)) for i in range(h*w)}\n",
    "\n",
    "model = gm.GraphModel(factors)\n",
    "\n",
    "order = list(range(w*h))            # default elimination order\n",
    "\n",
    "fig,ax=plt.subplots(1,1,figsize=(5,3)); ax.set_axis_off();\n",
    "gm.drawMarkovGraph(model,node_color='w',ax=ax, pos=pos);"
   ]
  },
  {
   "cell_type": "markdown",
   "metadata": {},
   "source": [
    "### Loopy Belief Propagation\n",
    "\n",
    "A basic, non-stateful implementation of loopy BP:"
   ]
  },
  {
   "cell_type": "code",
   "execution_count": 3,
   "metadata": {},
   "outputs": [
    {
     "name": "stdout",
     "output_type": "stream",
     "text": [
      "Iter 1: -1.8957191735934185\n",
      "Iter 2: -0.08707753656940032\n",
      "Iter 3: 2.40959928756516\n",
      "Iter 4: 4.246056405002893\n",
      "Iter 5: 4.178004403168848\n",
      "Iter 6: 2.9267770567983273\n",
      "Iter 7: 2.1059081066450434\n",
      "Iter 8: 1.8220040658828698\n",
      "Iter 9: 1.7399604089396985\n",
      "Iter 10: 1.7182854922042377\n"
     ]
    }
   ],
   "source": [
    "import pyGMs.messagepass\n",
    "\n",
    "lnZ, beliefs = gm.messagepass.LBP( model, maxIter=10, verbose=True)"
   ]
  },
  {
   "cell_type": "markdown",
   "metadata": {},
   "source": [
    "### Naive Mean Field\n",
    "\n",
    "A basic, non-stateful implementation of basic mean field:"
   ]
  },
  {
   "cell_type": "code",
   "execution_count": 4,
   "metadata": {},
   "outputs": [
    {
     "name": "stdout",
     "output_type": "stream",
     "text": [
      "Iter 0: -12.931600890971822\n",
      "Iter 1: -11.479220478575103\n",
      "Iter 2: -2.96463384653648\n",
      "Iter 3: 1.3325116383080733\n",
      "Iter 4: 1.6958547393195542\n",
      "Iter 5: 1.6958754885902954\n",
      "Iter 6: 1.6958754886345808\n",
      "Iter 7: 1.6958754886345815\n",
      "Iter 8: 1.6958754886345813\n",
      "Iter 9: 1.6958754886345815\n",
      "Iter 10: 1.6958754886345815\n"
     ]
    }
   ],
   "source": [
    "lnZ, beliefs = gm.messagepass.NMF( model, maxIter=10, verbose=True)"
   ]
  },
  {
   "cell_type": "markdown",
   "metadata": {},
   "source": [
    "### Dual Decomposition\n",
    "\n",
    "A reparameterization based fixed point update for dual decomposition for MAP:"
   ]
  },
  {
   "cell_type": "code",
   "execution_count": 5,
   "metadata": {},
   "outputs": [
    {
     "name": "stdout",
     "output_type": "stream",
     "text": [
      "Iter 0: 1.6202730566735244\n",
      "Iter 1: 1.6202730566735244 > [1.62027306]\n",
      "Iter 2: 1.6202730566735244 > [1.62027306]\n",
      "Iter 3: 1.6202730566735244 > [1.62027306]\n",
      "Iter 4: 1.6202730566735244 > [1.62027306]\n",
      "Iter 5: 1.6202730566735244 > [1.62027306]\n",
      "Iter 6: 1.6202730566735244 > [1.62027306]\n",
      "Iter 7: 1.6202730566735244 > [1.62027306]\n",
      "Iter 8: 1.6202730566735244 > [1.62027306]\n",
      "Iter 9: 1.6202730566735244 > [1.62027306]\n",
      "Iter 10: 1.6202730566735244 > [1.62027306]\n",
      "1.6202730566735244 > ln f* > [1.62027306] = f([0 0 0 0 0 0 0 0 0 0 0 0])\n"
     ]
    }
   ],
   "source": [
    "lnF, lnR, rhat = gm.messagepass.DualDecomposition( model, maxIter=10, verbose=True)\n",
    "print(f'{lnF} > ln f* > {lnR} = f({rhat})')"
   ]
  },
  {
   "cell_type": "markdown",
   "metadata": {},
   "source": [
    "### Weighted Dual Decomposition\n",
    "\n",
    "A reparameterization based fixed point update for decomposition bounds on the partition function.  This is still experimental."
   ]
  },
  {
   "cell_type": "code",
   "execution_count": 10,
   "metadata": {},
   "outputs": [
    {
     "name": "stdout",
     "output_type": "stream",
     "text": [
      "Iter 0: 6.7485839361041835\n",
      "[0.26203250885009766] Iter 1 : 6.119944093296255\n",
      "[0.5278480052947998] Iter 2 : 5.601788479798689\n",
      "[0.7878053188323975] Iter 3 : 5.16210678246847\n",
      "[1.0542335510253906] Iter 4 : 4.823448029518986\n",
      "[1.323129653930664] Iter 5 : 4.555956052089486\n",
      "[1.5901942253112793] Iter 6 : 4.362861197826344\n",
      "[1.8976049423217773] Iter 7 : 4.17385672235478\n",
      "[2.187412738800049] Iter 8 : 4.017074643876998\n",
      "[2.4546732902526855] Iter 9 : 3.8774144908021864\n",
      "[2.77581787109375] Iter 10 : 3.750470124599726\n",
      "3.750470124599726 > ln Z\n"
     ]
    }
   ],
   "source": [
    "# Initialize weights to equal among each factor that includes that variable...\n",
    "weights = [ [1./len(model.factorsWith(v)) for v in f.vars] for f in factors ]\n",
    "#print(weights)\n",
    "\n",
    "# Now, perform updates to tighten the bound...\n",
    "lnZw, thetas  = gm.messagepass.WeightedDD(factors, weights=weights, elimOrder=order, maxIter=10, verbose=True)\n",
    "print(f'{lnZw} > ln Z')\n",
    "\n",
    "# thetas are re-parameterized log factors of the original model"
   ]
  },
  {
   "cell_type": "code",
   "execution_count": null,
   "metadata": {},
   "outputs": [],
   "source": []
  },
  {
   "cell_type": "code",
   "execution_count": null,
   "metadata": {},
   "outputs": [],
   "source": []
  }
 ],
 "metadata": {
  "kernelspec": {
   "display_name": "Python 3 (ipykernel)",
   "language": "python",
   "name": "python3"
  },
  "language_info": {
   "codemirror_mode": {
    "name": "ipython",
    "version": 3
   },
   "file_extension": ".py",
   "mimetype": "text/x-python",
   "name": "python",
   "nbconvert_exporter": "python",
   "pygments_lexer": "ipython3",
   "version": "3.11.7"
  }
 },
 "nbformat": 4,
 "nbformat_minor": 4
}
