{
 "cells": [
  {
   "cell_type": "markdown",
   "metadata": {},
   "source": [
    "# pyGMs Introduction: Exact and Approximate Variable Elimination"
   ]
  },
  {
   "cell_type": "code",
   "execution_count": 42,
   "metadata": {},
   "outputs": [],
   "source": [
    "import numpy as np\n",
    "import pyGMs as gm\n",
    "import matplotlib.pyplot as plt"
   ]
  },
  {
   "cell_type": "markdown",
   "metadata": {},
   "source": [
    "Inference is the process of reasoning about the function defined by our graphical model, i.e., the combined influence of all of our factors.  Typical tasks are to compute the sum over all possible configurations, or \"partition function\", which corresponds to the normalizing constant of the function:\n",
    "$$ Z = \\sum_{x} \\prod_\\alpha f_\\alpha(x_\\alpha)$$\n",
    "or the marginal distribution of some variable, say $X_i$, by summing over all variables except $X_i$ and normalizing:\n",
    "$$ p(X_i) = \\frac{1}{Z} \\, \\sum_{x_{\\neg i}} \\prod_\\alpha f_\\alpha(x_\\alpha)$$\n",
    "Maximization tasks compute the most probable configuration, or its value:\n",
    "$$ x^* = \\arg\\max_{x} \\prod_\\alpha f_\\alpha(x_\\alpha)$$\n",
    "$$ f^* = \\max_{x} \\prod_\\alpha f_\\alpha(x_\\alpha)$$\n",
    "More advanced queries may even interleave different types of elimination operations.\n",
    "\n",
    "All these tasks involve the interactions of the entire model and all its factors on joint configurations of $x$, and thus cannot in general be answered without reasoning about the entire graph."
   ]
  },
  {
   "cell_type": "markdown",
   "metadata": {},
   "source": [
    "### Example Model\n",
    "\n",
    "Let us first build a simple graphical model on which to perform our inference tasks:"
   ]
  },
  {
   "cell_type": "code",
   "execution_count": 43,
   "metadata": {},
   "outputs": [
    {
     "data": {
      "image/png": "[encoded data removed]",
      "text/plain": [
       "<Figure size 360x144 with 1 Axes>"
      ]
     },
     "metadata": {},
     "output_type": "display_data"
    }
   ],
   "source": [
    "h,w = 2,4\n",
    "X = [gm.Var(i,3) for i in range(h*w)]\n",
    "tab = np.array([[1,0,0],[0,.9,0],[0,0,.8]])+.1\n",
    "factors  = [gm.Factor([X[h*i+j],X[h*i+j+1]],tab) for i in range(w) for j in range(h-1)]\n",
    "factors += [gm.Factor([X[h*i+j],X[h*i+j+h]],tab) for i in range(w-1) for j in range(h)]\n",
    "\n",
    "pos = {i:(i//h,-(i%h)) for i in range(h*w)}\n",
    "\n",
    "model = gm.GraphModel(factors)\n",
    "\n",
    "fig,ax=plt.subplots(1,1,figsize=(5,2)); ax.set_axis_off();\n",
    "gm.drawMarkovGraph(model,node_color='w',ax=ax, pos=pos);"
   ]
  },
  {
   "cell_type": "markdown",
   "metadata": {},
   "source": [
    "### Basic Variable Elimination"
   ]
  },
  {
   "cell_type": "markdown",
   "metadata": {},
   "source": [
    "We already know how to eliminate variables from our model, altering the structure and factors of our graph.  One way to compute the desired quantity by repeatedly eliminating variables along some order.  However, this will alter the graphical model itself; to avoid this, make a copy first:"
   ]
  },
  {
   "cell_type": "code",
   "execution_count": 3,
   "metadata": {},
   "outputs": [
    {
     "data": {
      "image/png": "[encoded data removed]",
      "text/plain": [
       "<Figure size 360x144 with 1 Axes>"
      ]
     },
     "metadata": {},
     "output_type": "display_data"
    }
   ],
   "source": [
    "elim_model = model.copy()\n",
    "elim_model.eliminate([0],'sum')\n",
    "\n",
    "fig,ax=plt.subplots(1,1,figsize=(5,2)); ax.set_axis_off();\n",
    "gm.drawMarkovGraph(elim_model,node_color='w',ax=ax, pos=pos);"
   ]
  },
  {
   "cell_type": "code",
   "execution_count": 4,
   "metadata": {},
   "outputs": [
    {
     "data": {
      "image/png": "[encoded data removed]",
      "text/plain": [
       "<Figure size 360x144 with 1 Axes>"
      ]
     },
     "metadata": {},
     "output_type": "display_data"
    }
   ],
   "source": [
    "elim_model.eliminate([1],'sum')\n",
    "\n",
    "fig,ax=plt.subplots(1,1,figsize=(5,2)); ax.set_axis_off();\n",
    "gm.drawMarkovGraph(elim_model,node_color='w',ax=ax, pos=pos);"
   ]
  },
  {
   "cell_type": "markdown",
   "metadata": {},
   "source": [
    "The `eliminate` function will also apply elimination sequentially along a desired order:"
   ]
  },
  {
   "cell_type": "code",
   "execution_count": 5,
   "metadata": {},
   "outputs": [
    {
     "name": "stdout",
     "output_type": "stream",
     "text": [
      "Eliminating all variables leaves us with only a scalar factor:\n",
      "SortedSet([Factor({},[0x21f3c50])], key=<function factorSet.<locals>.<lambda> at 0x7f9adc4ee5e0>)\n",
      "with value: [4.56244407]\n",
      "We can also access this with GraphModel.value([]): [4.56244407]\n"
     ]
    }
   ],
   "source": [
    "elim_model.eliminate([2,3,4,5,6,7],'sum')\n",
    "\n",
    "print(\"Eliminating all variables leaves us with only a scalar factor:\")\n",
    "print(elim_model.factors)\n",
    "print(\"with value:\", elim_model.factors[0].table)\n",
    "print(\"We can also access this with GraphModel.value([]):\", elim_model.value([]))"
   ]
  },
  {
   "cell_type": "markdown",
   "metadata": {},
   "source": [
    "Variable elimination using `max` is equally simple:"
   ]
  },
  {
   "cell_type": "code",
   "execution_count": 6,
   "metadata": {},
   "outputs": [
    {
     "name": "stdout",
     "output_type": "stream",
     "text": [
      "Max configuration value f* =  [2.59374246]\n"
     ]
    }
   ],
   "source": [
    "elim_model = model.copy()\n",
    "elim_model.eliminate([0,1,2,3,4,5,6,7],'max')\n",
    "print(\"Max configuration value f* = \", elim_model.value([]) )"
   ]
  },
  {
   "cell_type": "markdown",
   "metadata": {},
   "source": [
    "### Elimination Orders\n",
    "\n",
    "The computational complexity of variable elimination depends on the structure of the graph and the order in which variables are eliminated.  In our (very regular) example, it is easy to see that the index order is a good one.  If we need to find an elimination order automatically, we can use various heuristic techniques to identify one, such as the \"min width\" or \"min fill\" heuristics.  For example:"
   ]
  },
  {
   "cell_type": "code",
   "execution_count": 7,
   "metadata": {},
   "outputs": [
    {
     "name": "stdout",
     "output_type": "stream",
     "text": [
      "order:  [0, 1, 2, 3, 4, 5, 6, 7] ;   score: 58.0\n"
     ]
    }
   ],
   "source": [
    "order, score = gm.eliminationOrder(model, 'minfill')\n",
    "print(\"order: \", order, \";   score:\", score);  "
   ]
  },
  {
   "cell_type": "markdown",
   "metadata": {},
   "source": [
    "This function returns an order, along with a \"score\" corresponding to how large is the collection of intermediate functions that computed by elimination along this order.  This allows us to repeatedly run order searches, and identify better orders when we find them.  The keyword `nExtra` increases the amount of randomness in our search; the default value `nExtra=-1` is deterministic, while `nExtra=0` is greedy but breaks ties randomly, and increasing values of `nExtra` increase variability by making intermediate selections in the algorithm more random."
   ]
  },
  {
   "cell_type": "code",
   "execution_count": 8,
   "metadata": {},
   "outputs": [
    {
     "name": "stdout",
     "output_type": "stream",
     "text": [
      "([0, 6, 2, 3, 1, 5, 4, 7], 94.0)\n",
      "([6, 7, 4, 5, 3, 2, 0, 1], 58.0)\n",
      "([7, 0, 2, 1, 4, 5, 3, 6], 94.0)\n",
      "([2, 6, 1, 7, 5, 0, 3, 4], 76.0)\n",
      "([7, 0, 6, 1, 3, 2, 5, 4], 58.0)\n",
      "([1, 6, 7, 4, 0, 5, 2, 3], 58.0)\n",
      "([2, 6, 7, 5, 4, 1, 0, 3], 76.0)\n",
      "([7, 6, 1, 0, 3, 5, 2, 4], 58.0)\n",
      "([2, 1, 0, 3, 6, 5, 4, 7], 76.0)\n",
      "([6, 7, 0, 4, 1, 2, 3, 5], 58.0)\n"
     ]
    }
   ],
   "source": [
    "for i in range(10):\n",
    "    print( gm.eliminationOrder(model, 'minfill', nExtra=1) )"
   ]
  },
  {
   "cell_type": "markdown",
   "metadata": {},
   "source": [
    "Often we may want to make multiple order search attempts to find a good one.  The algorith can \"short-circuit\" a search and exit with no order if it is already worse than a previously found order, by using the `cutoff` keyword:"
   ]
  },
  {
   "cell_type": "code",
   "execution_count": 38,
   "metadata": {},
   "outputs": [
    {
     "name": "stdout",
     "output_type": "stream",
     "text": [
      "(None, 58)\n",
      "([0, 1, 7, 2, 3, 4, 5, 6], 58.0)\n",
      "([0, 1, 3, 2, 6, 5, 4, 7], 58.0)\n",
      "(None, 58)\n",
      "([0, 6, 1, 7, 4, 3, 5, 2], 58.0)\n",
      "(None, 58)\n",
      "([7, 6, 0, 1, 4, 5, 3, 2], 58.0)\n",
      "([7, 0, 1, 6, 4, 3, 5, 2], 58.0)\n",
      "(None, 58)\n",
      "([1, 6, 0, 7, 2, 5, 4, 3], 58.0)\n"
     ]
    }
   ],
   "source": [
    "for i in range(10):\n",
    "    print( gm.eliminationOrder(model, 'minfill', nExtra=1, cutoff=58) )"
   ]
  },
  {
   "cell_type": "markdown",
   "metadata": {},
   "source": [
    "#### PseudoTrees\n",
    "\n",
    "**TODO**: notional representation of elimination structure, without computation (e.g. Junction Trees)"
   ]
  },
  {
   "cell_type": "code",
   "execution_count": 41,
   "metadata": {},
   "outputs": [
    {
     "name": "stdout",
     "output_type": "stream",
     "text": [
      "PseudoTree has width 2 and depth 7\n",
      "Estimated computational effort is 58.0\n"
     ]
    }
   ],
   "source": [
    "pt = gm.PseudoTree(model, order)\n",
    "print(f\"PseudoTree has width {pt.width} and depth {pt.depth}\")\n",
    "print(f\"Estimated computational effort is {pt.size}\")"
   ]
  },
  {
   "cell_type": "markdown",
   "metadata": {},
   "source": [
    "### Junction Trees"
   ]
  },
  {
   "cell_type": "markdown",
   "metadata": {},
   "source": [
    "However, the direct variable elimination process does not save the intermediate quantities needed for answering other queries, such as finding the configuration $x^*$ corresponding to value $f^*$, or computing marginal probabilities (other than that of the last eliminated variable).  These computations are usually performed using message passing on a junction tree or equivalent representation of the cliques.\n",
    "\n",
    "The junction tree implementation is part of a more general approximation technique called weighted mini-bucket:"
   ]
  },
  {
   "cell_type": "code",
   "execution_count": 9,
   "metadata": {},
   "outputs": [],
   "source": [
    "import pyGMs.wmb\n",
    "\n",
    "jt = gm.wmb.JTree(model, order,'sum+')"
   ]
  },
  {
   "cell_type": "markdown",
   "metadata": {},
   "source": [
    "(Here, \"+\" indicates that in the more general, WMB approximation, an upper bound should be computed.)\n",
    "\n",
    "The junction tree representes the cliques that are reasoned about jointly during the elimination process, and how the results of each elimination are used in subsequent calculations.  If we display the internal representation, we see:"
   ]
  },
  {
   "cell_type": "code",
   "execution_count": 10,
   "metadata": {},
   "outputs": [
    {
     "data": {
      "text/plain": [
       "000: {0,1,2} => (1); \n",
       "001: {1,2,3} => (2); \n",
       "002: {2,3,4} => (3); \n",
       "003: {3,4,5} => (4); \n",
       "004: {4,5,6} => (5); \n",
       "005: {5,6,7} => (6); \n",
       "006: {6,7} => (7); \n",
       "007: {7} => (None); "
      ]
     },
     "execution_count": 10,
     "metadata": {},
     "output_type": "execute_result"
    }
   ],
   "source": [
    "jt"
   ]
  },
  {
   "cell_type": "markdown",
   "metadata": {},
   "source": [
    "Each row is the elimination of a variable, $X_0$ to $X_7$; then we see the clique, or scope of the joint function computed.  So, we see that when eliminating $X_0$, we reason about $(X_0,X_1,X_2)$, and the resulting quantity (a message involving $X_1$ and $X_2$) is passed along to be used in the elimination of $X_1$.\n",
    "\n",
    "The \"forward pass\" on a junction tree computes the same quantity as elimination along that ordering, e.g.,"
   ]
  },
  {
   "cell_type": "code",
   "execution_count": 11,
   "metadata": {},
   "outputs": [
    {
     "name": "stdout",
     "output_type": "stream",
     "text": [
      "Log partition function:  1.5178584609923864\n",
      "   (so, Z =  4.562444073600002 )\n"
     ]
    }
   ],
   "source": [
    "lnZ = jt.msgForward()\n",
    "print(\"Log partition function: \",lnZ)\n",
    "print(\"   (so, Z = \",np.exp(lnZ),\")\")"
   ]
  },
  {
   "cell_type": "markdown",
   "metadata": {},
   "source": [
    "However, the junction tree stores the intermediate computations, allowing us to then perform a backward pass to find any desired marginals, indicated by a list of `gm.VarSet`s."
   ]
  },
  {
   "cell_type": "code",
   "execution_count": 12,
   "metadata": {},
   "outputs": [
    {
     "name": "stdout",
     "output_type": "stream",
     "text": [
      "{{0}: Factor({0},[0x25a8bc0]), {2,3}: Factor({2,3},[0x210b090]), {5}: Factor({5},[0x1f51f60])}\n",
      "\n",
      "p(X0) =  [0.6299893 0.2620805 0.1079302]\n",
      "p(X2,X3) =  [[0.63671452 0.00263251 0.00208032]\n",
      " [0.00263251 0.25569223 0.00146849]\n",
      " [0.00208032 0.00146849 0.0952306 ]]\n",
      "...\n"
     ]
    }
   ],
   "source": [
    "queries = [ gm.VarSet([X[0]]) , gm.VarSet([X[2],X[3]]), gm.VarSet([X[5]]) ]\n",
    "marginals = jt.beliefs( queries )\n",
    "print(marginals)\n",
    "print()\n",
    "print(\"p(X0) = \", marginals[queries[0]].table)\n",
    "print(\"p(X2,X3) = \", marginals[queries[1]].table)\n",
    "print(\"...\")"
   ]
  },
  {
   "cell_type": "markdown",
   "metadata": {},
   "source": [
    "or, draw samples from the normalized version of the distribution:"
   ]
  },
  {
   "cell_type": "code",
   "execution_count": 13,
   "metadata": {},
   "outputs": [
    {
     "name": "stdout",
     "output_type": "stream",
     "text": [
      "({Var (7,3): 1, Var (6,3): 1, Var (5,3): 1, Var (4,3): 1, Var (3,3): 1, Var (2,3): 1, Var (1,3): 1, Var (0,3): 1}, -1.5178584609923862)\n",
      "({Var (7,3): 1, Var (6,3): 1, Var (5,3): 1, Var (4,3): 1, Var (3,3): 1, Var (2,3): 1, Var (1,3): 1, Var (0,3): 1}, -1.5178584609923862)\n",
      "({Var (7,3): 1, Var (6,3): 1, Var (5,3): 1, Var (4,3): 1, Var (3,3): 1, Var (2,3): 1, Var (1,3): 1, Var (0,3): 1}, -1.5178584609923862)\n",
      "({Var (7,3): 2, Var (6,3): 1, Var (5,3): 1, Var (4,3): 1, Var (3,3): 1, Var (2,3): 1, Var (1,3): 1, Var (0,3): 1}, -6.123028646980477)\n",
      "({Var (7,3): 0, Var (6,3): 2, Var (5,3): 0, Var (4,3): 0, Var (3,3): 0, Var (2,3): 0, Var (1,3): 0, Var (0,3): 0}, -5.360547208545879)\n"
     ]
    }
   ],
   "source": [
    "for i  in range(5):\n",
    "    print( jt.sample() )"
   ]
  },
  {
   "cell_type": "markdown",
   "metadata": {},
   "source": [
    "Note that computing the marginals requires that our junction tree is created using \"sum\" inference operations.  By computing a junction tree using \"max\" operations, we can find the value of, and a configuration for, the most probable state of the model:"
   ]
  },
  {
   "cell_type": "code",
   "execution_count": 14,
   "metadata": {},
   "outputs": [
    {
     "name": "stdout",
     "output_type": "stream",
     "text": [
      "Optimal log value:  0.9531017980432497\n",
      "   (so, f-star =  2.5937424601000028 )\n",
      "An optimal configuration is: \n",
      "   {Var (7,3): 0, Var (6,3): 0, Var (5,3): 0, Var (4,3): 0, Var (3,3): 0, Var (2,3): 0, Var (1,3): 0, Var (0,3): 0}\n"
     ]
    }
   ],
   "source": [
    "jt = gm.wmb.JTree(model, order,'max+')\n",
    "lnf = jt.msgForward()\n",
    "print(\"Optimal log value: \",lnf)\n",
    "print(\"   (so, f-star = \",np.exp(lnf),\")\")\n",
    "print(\"An optimal configuration is: \")\n",
    "print(\"  \",jt.argmax())"
   ]
  },
  {
   "cell_type": "code",
   "execution_count": null,
   "metadata": {},
   "outputs": [],
   "source": []
  },
  {
   "cell_type": "markdown",
   "metadata": {},
   "source": [
    "### Weighted Mini-Bucket"
   ]
  },
  {
   "cell_type": "markdown",
   "metadata": {},
   "source": [
    "If the exact variable elimination process is too computationally expensive, we can approximate it using \"mini-buckets\"..."
   ]
  },
  {
   "cell_type": "code",
   "execution_count": 33,
   "metadata": {},
   "outputs": [
    {
     "name": "stdout",
     "output_type": "stream",
     "text": [
      "000: {0,1}^0.50 => (1, 0); {0,2}^0.50 => (2, 0); \n",
      "001: {1,3}^1.00 => (3, 0); \n",
      "002: {2,3}^0.50 => (3, 0); {2,4}^0.50 => (4, 0); \n",
      "003: {3,5}^1.00 => (5, 0); \n",
      "004: {4,5}^0.50 => (5, 0); {4,6}^0.50 => (6, 0); \n",
      "005: {5,7}^1.00 => (7, 0); \n",
      "006: {6,7}^1.00 => (7, 0); \n",
      "007: {7}^1.00 => (None, None); \n",
      "\n"
     ]
    }
   ],
   "source": [
    "wmb = gm.wmb.WMB(model, order,iBound=1, weights='sum+')\n",
    "print(wmb)"
   ]
  },
  {
   "cell_type": "markdown",
   "metadata": {},
   "source": [
    "This tells us that, when eliminating $X_0$, we group our factors into two sets, called mini-buckets: one including only variables $(X_0,X_1)$ and the other including only variables $(X_0,X_2)$. We then eliminate $X_0$ within each set separately, using a \"weighted sum\" with weight 0.5 in each mini-bucket, producing an upper bound on the true functon of $(X_1,X_2)$ defined by a function over only $X_1$ (which is passed to mini-bucket 0 in bucket 1, i.e., when eliminating $X_1$) and another function only over $X_2$ (which is passed to mini-bucket 0 of bucket 2, when $X_2$ is eliminated).  The computation never produces messages (intermediate factors) with more than `iBound` arguments, controlling the computational and memory complexity of the algorithm.\n",
    "\n",
    "As with the junction tree, we can use a forward pass to compute the corresponding upper bound:"
   ]
  },
  {
   "cell_type": "code",
   "execution_count": 34,
   "metadata": {},
   "outputs": [
    {
     "name": "stdout",
     "output_type": "stream",
     "text": [
      "ln Z <  2.064044538592766\n"
     ]
    }
   ],
   "source": [
    "lnZ_bound = wmb.msgForward()\n",
    "print(\"ln Z < \",lnZ_bound)"
   ]
  },
  {
   "cell_type": "markdown",
   "metadata": {},
   "source": [
    "This is only an approximation, however, and can be tightened through changes to to allocation of factors to mini-buckets (called \"reparameterization\"), and by changes to the weights associated with each mini-bucket.  For example:"
   ]
  },
  {
   "cell_type": "code",
   "execution_count": 35,
   "metadata": {},
   "outputs": [
    {
     "name": "stdout",
     "output_type": "stream",
     "text": [
      "ln Z <  2.0612518973513887\n",
      "ln Z <  2.059197076394305\n",
      "ln Z <  2.0576782054186378\n",
      "ln Z <  2.056550417597293\n"
     ]
    }
   ],
   "source": [
    "for step in range(4):\n",
    "    wmb.msgBackward( stepTheta=.5, stepWeights=.2 )\n",
    "    print(\"ln Z < \",wmb.msgForward())"
   ]
  },
  {
   "cell_type": "markdown",
   "metadata": {},
   "source": [
    "Each iteration tries to reduce the bound through a gradient update to the parameters and weights, with step sizes controlled by `stepTheta` (reparameterization changes) and `stepWeights` (weight changes).\n",
    "\n",
    "As with the junction tree, this representation can be used to compute *approximate* marginals (called \"beliefs\"), or draw samples from a distribution that uses the mini-bucket bound to approximate the true distribution.\n",
    "\n",
    "Using `weights=max+` produces a corresponding upper bound on the max-inference junction tree, which again can be tightened through reparameterization.  (Here, the weights are all zero and cannot be changed to tighten the bound.)"
   ]
  },
  {
   "cell_type": "code",
   "execution_count": 37,
   "metadata": {},
   "outputs": [
    {
     "name": "stdout",
     "output_type": "stream",
     "text": [
      "ln F* <  0.9975424744084762\n",
      "  ln F* <  0.9953270843347504\n",
      "  ln F* <  0.9942725535046908\n",
      "  ln F* <  0.9937193021820291\n",
      "  ln F* <  0.9933988828603257\n"
     ]
    }
   ],
   "source": [
    "wmb = gm.wmb.WMB(model, order,iBound=1, weights='max+')\n",
    "print(\"ln F* < \",wmb.msgForward())\n",
    "for step in range(4):\n",
    "    wmb.msgBackward( stepTheta=.5 )\n",
    "    print(\"  ln F* < \",wmb.msgForward())"
   ]
  },
  {
   "cell_type": "code",
   "execution_count": null,
   "metadata": {},
   "outputs": [],
   "source": []
  }
 ],
 "metadata": {
  "kernelspec": {
   "display_name": "Python 3",
   "language": "python",
   "name": "python3"
  },
  "language_info": {
   "codemirror_mode": {
    "name": "ipython",
    "version": 3
   },
   "file_extension": ".py",
   "mimetype": "text/x-python",
   "name": "python",
   "nbconvert_exporter": "python",
   "pygments_lexer": "ipython3",
   "version": "3.8.10"
  }
 },
 "nbformat": 4,
 "nbformat_minor": 4
}
