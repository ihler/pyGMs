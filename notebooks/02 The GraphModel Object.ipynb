{
 "cells": [
  {
   "cell_type": "markdown",
   "metadata": {},
   "source": [
    "# pyGMs Introduction: GraphModel"
   ]
  },
  {
   "cell_type": "code",
   "execution_count": 1,
   "metadata": {},
   "outputs": [],
   "source": [
    "import numpy as np\n",
    "import pyGMs as gm\n",
    "import matplotlib.pyplot as plt"
   ]
  },
  {
   "cell_type": "markdown",
   "metadata": {},
   "source": [
    "Once we have the definition of our random variables, $X_0,...,X_{n-1}$, and factors, we can define a graphical model to be the \"combination\" of a collection of factors.  Specifically, most probabilistic graphical models are defined by the product of their factors; for example, in Bayesian networks, each factor corresponds to a conditional probability distribution, and the overall joint distribution is defined by the product of these conditionals.\n",
    "\n",
    "## Bayesian networks\n",
    "Any probability distribution can be defined in terms of an expansion into conditionals, for example,\n",
    "$$p(X) = p(X_0,X_1,X_2) = p(X_0) \\ p(X_1|X_0) \\ p(X_2|X_0,X_1)$$\n",
    "\n",
    "A Bayesian network imposes assumptions on the probability distribution $p(X)$ by asserting that some of these factors do not depend on all the preceding variables; for example, if $X_2$'s distribution only depends on $X_0$ and not on $X_1$, we can write,\n",
    "$$p(X_0,X_1,X_2) = p(X_0) \\ p(X_1|X_0) \\ p(X_2|X_0)$$\n",
    "in which case we do not need to represent a table over all $d^3$ values $(x_0,x_1,x_2)$, but only a collection of tables over at most $d^2$ values at a time.\n",
    "\n",
    "Let's define a distribution over five variables, corresponding to a version of the classic \"Burglar Alarm\" example.  First, we define the variables themselves, which will all take on two possible values (true or false):"
   ]
  },
  {
   "cell_type": "code",
   "execution_count": 2,
   "metadata": {},
   "outputs": [],
   "source": [
    "B = gm.Var(0,2)   # Was there a burglary at Sherlock Holmes' house?\n",
    "E = gm.Var(1,2)   # Was there an earthquake?\n",
    "A = gm.Var(2,2)   # Has the alarm gone off?\n",
    "W = gm.Var(3,2)   # Has Watson called to complain?\n",
    "H = gm.Var(4,2)   # Has Mrs Hudson called to complain?\n",
    "\n",
    "X = [B,E,A,W,H]   # we'll often refer to variables as Xi or X[i]\n",
    "\n",
    "# sometimes it's useful to have a reverse look-up from ID to \"name string\" (e.g. when drawing the graph)\n",
    "IDtoName = dict( (eval(n).label,n) for n in ['B','E','A','W','H'])"
   ]
  },
  {
   "cell_type": "markdown",
   "metadata": {},
   "source": [
    "Next, we define the conditional probability tables in the model:"
   ]
  },
  {
   "cell_type": "code",
   "execution_count": 3,
   "metadata": {},
   "outputs": [],
   "source": [
    "p_E = gm.Factor([E], [.998, .002]) # probability of earthquake (false,true)\n",
    "\n",
    "p_B = gm.Factor([B], [.999, .001]) # probability of burglary\n",
    "\n",
    "p_A_BE = gm.Factor([A,B,E], 0.0)   # Note: this factor is actually over the *set* {B,E,A}\n",
    "                                   #   since factors do not save the order of their arguments!\n",
    "                                   # To index using just tuple notation, we need to know the order of\n",
    "# Set  B,E,A                       #   the variables ID numbers, in this case: B,E,A\n",
    "p_A_BE[0,0,:] = [.999, .001]       # \":\" refers to an entire row of the table (a \"slice\" in Python)\n",
    "p_A_BE[0,1,:] = [.710, .290]       \n",
    "p_A_BE[1,0,:] = [.060, .940]       # For each setting (b,e), the table should sum to one over A\n",
    "p_A_BE[1,1,:] = [.050, .950]       #   so that it corresponds to a conditional probability\n",
    "\n",
    "p_W_A = gm.Factor([A,W], 0.0)      # Probability that Watson calls given the alarm's status\n",
    "p_W_A[0,:]    = [.95, .05]\n",
    "p_W_A[1,:]    = [.10, .90]\n",
    "\n",
    "p_H_A = gm.Factor([A,H], 0.0)      # Probability that Mrs Hudson calls given the alarm's status\n",
    "p_H_A[0,:]    = [.99, .01]\n",
    "p_H_A[1,:]    = [.30, .70]\n",
    "\n",
    "factors = [p_W_A, p_H_A, p_A_BE, p_E, p_B]  # collect all the factors that define the model"
   ]
  },
  {
   "cell_type": "markdown",
   "metadata": {},
   "source": [
    "We can define a `GraphModel` to contain this collection of probability factors:"
   ]
  },
  {
   "cell_type": "code",
   "execution_count": 4,
   "metadata": {},
   "outputs": [],
   "source": [
    "model = gm.GraphModel([p_E,p_B,p_A_BE,p_W_A,p_H_A])"
   ]
  },
  {
   "cell_type": "markdown",
   "metadata": {},
   "source": [
    "`model` now defines an implicit function over all the variables in those factors:"
   ]
  },
  {
   "cell_type": "code",
   "execution_count": 5,
   "metadata": {},
   "outputs": [
    {
     "name": "stdout",
     "output_type": "stream",
     "text": [
      "[Var (0,2), Var (1,2), Var (2,2), Var (3,2), Var (4,2)]\n",
      "[Factor({0},[0x1ce7000]), Factor({1},[0x2552a70]), Factor({2,3},[0x2a322b0]), Factor({2,4},[0x2b92cd0]), Factor({0,1,2},[0x2b8b300])]\n"
     ]
    }
   ],
   "source": [
    "print(model.vars)\n",
    "print(list(model.factors))        # normally \"factors\" is a sorted set"
   ]
  },
  {
   "cell_type": "markdown",
   "metadata": {},
   "source": [
    "Our model now **implicitly** defines the function corresponding to the product of these factors.  For example,"
   ]
  },
  {
   "cell_type": "code",
   "execution_count": 6,
   "metadata": {},
   "outputs": [
    {
     "name": "stdout",
     "output_type": "stream",
     "text": [
      "(0,0,0,0,0):  [0.9367427]\n",
      "(0,1,1,1,0):  [0.00015644]\n"
     ]
    }
   ],
   "source": [
    "print('(0,0,0,0,0): ',model.value( (0,0,0,0,0) ))   # p(BEAWH=00000)\n",
    "\n",
    "print('(0,1,1,1,0): ',model.value( (0,1,1,1,0) ))   # p(BEAWH=01110)"
   ]
  },
  {
   "cell_type": "markdown",
   "metadata": {},
   "source": [
    "We could **explicitly** compute this function using factor operations, e.g.,"
   ]
  },
  {
   "cell_type": "code",
   "execution_count": 7,
   "metadata": {},
   "outputs": [
    {
     "name": "stdout",
     "output_type": "stream",
     "text": [
      "(0,0,0,0,0):  0.936742700619\n",
      "(0,1,1,1,0):  0.00015644339999999998\n"
     ]
    }
   ],
   "source": [
    "p_BEAWH = p_W_A * p_H_A * p_A_BE * p_E * p_B\n",
    "print('(0,0,0,0,0): ',p_BEAWH[ (0,0,0,0,0) ])\n",
    "print('(0,1,1,1,0): ',p_BEAWH[ (0,1,1,1,0) ]) "
   ]
  },
  {
   "cell_type": "markdown",
   "metadata": {},
   "source": [
    "However, the joint, table representation of $p(B,E,A,W,H)$ may be much larger than the individual factors:"
   ]
  },
  {
   "cell_type": "code",
   "execution_count": 8,
   "metadata": {},
   "outputs": [
    {
     "name": "stdout",
     "output_type": "stream",
     "text": [
      "Full joint size:  32\n",
      "Conditional Factor sizes:  [2, 2, 8, 4, 4]\n"
     ]
    }
   ],
   "source": [
    "print(\"Full joint size: \", p_BEAWH.numel())\n",
    "print(\"Conditional Factor sizes: \", [f.numel() for f in [p_E,p_B,p_A_BE,p_W_A,p_H_A]])"
   ]
  },
  {
   "cell_type": "markdown",
   "metadata": {},
   "source": [
    "We often display a Bayesian network using a directed graph, with one node in the graph for each random variable, and the parents of that node in the graph corresponding to the variables that are conditioned on for that variable's term in the conditional expansion.  We can use `networkx` to display a Bayesian network stored as a `GraphModel`:"
   ]
  },
  {
   "cell_type": "code",
   "execution_count": 9,
   "metadata": {},
   "outputs": [
    {
     "data": {
      "image/png": "[encoded data removed]",
      "text/plain": [
       "<Figure size 432x288 with 1 Axes>"
      ]
     },
     "metadata": {},
     "output_type": "display_data"
    }
   ],
   "source": [
    "fig,ax=plt.subplots(1,1)\n",
    "ax.set_axis_off()\n",
    "gm.drawBayesNet(model,node_color='w',ax=ax, var_labels=IDtoName);"
   ]
  },
  {
   "cell_type": "markdown",
   "metadata": {},
   "source": [
    "The layout is automatic and can be random; for reproducible results you can specify the node positions explicitly:"
   ]
  },
  {
   "cell_type": "code",
   "execution_count": 10,
   "metadata": {},
   "outputs": [
    {
     "data": {
      "image/png": "[encoded data removed]",
      "text/plain": [
       "<Figure size 432x288 with 1 Axes>"
      ]
     },
     "metadata": {},
     "output_type": "display_data"
    }
   ],
   "source": [
    "fig,ax=plt.subplots(1,1); ax.set_axis_off();\n",
    "pos = {0: (-1,0), 1:(1,0), 2:(0,-1), 3:(-1,-2), 4:(1,-2)}  # dict: { i: position of node Xi }\n",
    "gm.drawBayesNet(model,node_color='w',ax=ax, pos=pos, var_labels=IDtoName);"
   ]
  },
  {
   "cell_type": "markdown",
   "metadata": {},
   "source": [
    "## Factor Graphs"
   ]
  },
  {
   "cell_type": "markdown",
   "metadata": {},
   "source": [
    "It's not always the case that the function we want to model is nicely expressed as a sequence of conditional probabilities.  Instead, we may define an unnormalized function that is the product of a collection of smaller factors.  For example, a constraint satisfaction problem can be expressed as a collection of smaller factors corresponding to each constraint."
   ]
  },
  {
   "cell_type": "code",
   "execution_count": 11,
   "metadata": {},
   "outputs": [],
   "source": [
    "X = tuple( gm.Var(i,3) for i in range(7) )\n",
    "\n",
    "not_equal = np.ones((3,3))              # each constraint is over two neighboring variables\n",
    "for v in range(3): not_equal[v,v] = 0.  # table is zero (forbidden) if both variables are the same value (color)\n",
    "\n",
    "neighbors = [(X[0],X[1]),(X[0],X[2]),(X[1],X[2]),(X[1],X[3]),(X[2],X[3]),\n",
    "             (X[2],X[4]),(X[2],X[5]),(X[3],X[4]),(X[4],X[5])]\n",
    "\n",
    "factors = [gm.Factor( XiXj, not_equal ) for XiXj in neighbors]\n",
    "\n",
    "csp = gm.GraphModel(factors)"
   ]
  },
  {
   "cell_type": "markdown",
   "metadata": {},
   "source": [
    "We can then draw the corresponding graph, as either a factor graph (in which the factors are explicitly drawn using squares), or as a Markov random field (in which variables that participate in a factor together are joined by an edge)."
   ]
  },
  {
   "cell_type": "code",
   "execution_count": 12,
   "metadata": {},
   "outputs": [
    {
     "data": {
      "image/png": "[encoded data removed]",
      "text/plain": [
       "<Figure size 432x288 with 1 Axes>"
      ]
     },
     "metadata": {},
     "output_type": "display_data"
    }
   ],
   "source": [
    "fig,ax=plt.subplots(1,1); ax.set_axis_off()\n",
    "gm.drawFactorGraph(csp, var_color='w',factor_color=[(.2,.2,.8)]);"
   ]
  },
  {
   "cell_type": "code",
   "execution_count": 13,
   "metadata": {},
   "outputs": [
    {
     "data": {
      "image/png": "[encoded data removed]",
      "text/plain": [
       "<Figure size 432x288 with 1 Axes>"
      ]
     },
     "metadata": {},
     "output_type": "display_data"
    }
   ],
   "source": [
    "fig,ax=plt.subplots(1,1); ax.set_axis_off()\n",
    "gm.drawMarkovGraph(csp, node_color='w');"
   ]
  },
  {
   "cell_type": "markdown",
   "metadata": {},
   "source": [
    "`GraphModel` does not know whether the model we have defined is a Bayesian network or a more general collection of factors.  However, we can try to check to see whether there is a root-to-leaf ordering of the variables, such that each table can be expressed as a normalized conditional distribution.  If so, we can conclude that the model is a Bayesian network:"
   ]
  },
  {
   "cell_type": "code",
   "execution_count": 14,
   "metadata": {},
   "outputs": [
    {
     "data": {
      "text/plain": [
       "True"
      ]
     },
     "execution_count": 14,
     "metadata": {},
     "output_type": "execute_result"
    }
   ],
   "source": [
    "model.isBN()"
   ]
  },
  {
   "cell_type": "code",
   "execution_count": 15,
   "metadata": {},
   "outputs": [
    {
     "data": {
      "text/plain": [
       "False"
      ]
     },
     "execution_count": 15,
     "metadata": {},
     "output_type": "execute_result"
    }
   ],
   "source": [
    "csp.isBN()"
   ]
  },
  {
   "cell_type": "markdown",
   "metadata": {},
   "source": [
    "## Log Representations"
   ]
  },
  {
   "cell_type": "markdown",
   "metadata": {},
   "source": [
    "Taking the product of a large collection of numbers tends to become numerically unstable; for example, if the numbers are all probabilities (and so less than one), the products become extremely small as the model size grows and may start to numerically underflow.  For this reason, it is common in practice to represent our model, and its factors, in the log domain.  Then, the product of the original factors is simply the sum of the log-factors.\n",
    "\n",
    "However, the `GraphModel` functions need to know whether the factors should be interpreted using a product, or a sum (for log factors).  We can tell `GraphModel` which type of factors we are passing in using the `isLog` flag.  After constructing a `GraphModel`, we can convert to log, or back, using `model.toLog()` and `model.toExp()`, and can check which semantics apply using `model.isLog()`:"
   ]
  },
  {
   "cell_type": "code",
   "execution_count": 18,
   "metadata": {},
   "outputs": [
    {
     "name": "stdout",
     "output_type": "stream",
     "text": [
      "p(0,0,0,0,0)= [0.9367427]\n",
      "log form? False\n",
      "\n",
      " converting...\n",
      "p(0,0,0,0,0)= [0.9367427]\n",
      "log form? True\n",
      "Only the internal factors being stored have changed, e.g., f0(X0=0)=-0.0010005003335835344\n",
      "\n",
      "If we convert back...\n",
      "p(0,0,0,0,0)= [0.9367427]\n",
      "log form? False\n",
      "Again, the overall function is the same, but internally, f0(X0=0)=0.999\n"
     ]
    }
   ],
   "source": [
    "print('p(0,0,0,0,0)=', model.value( (0,0,0,0,0) ))\n",
    "print(\"log form?\", model.isLog)\n",
    "\n",
    "print(\"\\n converting...\")\n",
    "model.toLog()\n",
    "\n",
    "print('p(0,0,0,0,0)=', model.value( (0,0,0,0,0) )) \n",
    "print(\"log form?\", model.isLog)\n",
    "\n",
    "print(f'Only the internal factors being stored have changed, e.g., f0(X0=0)={model.factors[0][0]}\\n')\n",
    "\n",
    "print(\"If we convert back...\")\n",
    "model.toExp()   # and convert back\n",
    "\n",
    "print('p(0,0,0,0,0)=', model.value( (0,0,0,0,0) )) \n",
    "print(\"log form?\", model.isLog)\n",
    "print(f'Again, the overall function is the same, but internally, f0(X0=0)={model.factors[0][0]}')"
   ]
  },
  {
   "cell_type": "markdown",
   "metadata": {},
   "source": [
    "So, we can make the internal representation be either a product of factors, or a sum of log factors; either way, the  `value` method will compute the same quantity (the product, or exponentiated sum-of-log values).  There is also a corresponding function `logValue` which returns the log of the product, or sum-of-log value, depending on the internal representation.  This allows either internal form to be used without affecting external behavior.\n",
    "\n",
    "**NOTE:** `toLog()` and `toExp()` operate in-place on the factor tables, and thus require that the model be able to alter those tables.  See notes on `GraphModel.lock`."
   ]
  },
  {
   "cell_type": "markdown",
   "metadata": {},
   "source": [
    "## Graph Connectivity"
   ]
  },
  {
   "cell_type": "markdown",
   "metadata": {},
   "source": [
    "The `GraphModel` acts as a container than allows us to keep track of and query the structure of the graphical model.  The most basic operations we might want are to understand which variables are directly related to which, and how.  We can use accessors to find this information easily.  For example, the Markov blanket of a variable are those that are directly related through some factor, e.g.:"
   ]
  },
  {
   "cell_type": "code",
   "execution_count": 19,
   "metadata": {},
   "outputs": [
    {
     "data": {
      "text/plain": [
       "{2}"
      ]
     },
     "execution_count": 19,
     "metadata": {},
     "output_type": "execute_result"
    }
   ],
   "source": [
    "model.markovBlanket( W )"
   ]
  },
  {
   "cell_type": "markdown",
   "metadata": {},
   "source": [
    "The Markov blanket of W is simply A; W is conditionally independent of the rest of the model given A."
   ]
  },
  {
   "cell_type": "code",
   "execution_count": 20,
   "metadata": {},
   "outputs": [
    {
     "data": {
      "text/plain": [
       "{1,2}"
      ]
     },
     "execution_count": 20,
     "metadata": {},
     "output_type": "execute_result"
    }
   ],
   "source": [
    "model.markovBlanket( B )"
   ]
  },
  {
   "cell_type": "markdown",
   "metadata": {},
   "source": [
    "The Markov blanket of B is E and A; given A, B is independent of W or H, but not (conditinoally) independent of E.\n",
    "\n",
    "We can explicitly find the factors that contain a variable:"
   ]
  },
  {
   "cell_type": "code",
   "execution_count": 21,
   "metadata": {},
   "outputs": [
    {
     "data": {
      "text/plain": [
       "SortedSet([Factor({0},[0x1ce7000]), Factor({0,1,2},[0x2b8b300])], key=<function factorSet.<locals>.<lambda> at 0x7f00f72e81f0>)"
      ]
     },
     "execution_count": 21,
     "metadata": {},
     "output_type": "execute_result"
    }
   ],
   "source": [
    "model.factorsWith( B )"
   ]
  },
  {
   "cell_type": "markdown",
   "metadata": {},
   "source": [
    "i.e., the factors corresponding to $p(B)$ and $p(A|E,B)$.\n",
    "\n",
    "We can also find factors that involve any of a set of variables,"
   ]
  },
  {
   "cell_type": "code",
   "execution_count": 22,
   "metadata": {},
   "outputs": [
    {
     "data": {
      "text/plain": [
       "SortedSet([Factor({0},[0x1ce7000]), Factor({1},[0x2552a70]), Factor({0,1,2},[0x2b8b300])], key=<function factorSet.<locals>.<lambda> at 0x7f00f49a6e50>)"
      ]
     },
     "execution_count": 22,
     "metadata": {},
     "output_type": "execute_result"
    }
   ],
   "source": [
    "model.factorsWithAny( [B,E] )"
   ]
  },
  {
   "cell_type": "markdown",
   "metadata": {},
   "source": [
    "or the intersection of the sets, i.e., factors with all the provided variables:"
   ]
  },
  {
   "cell_type": "code",
   "execution_count": 23,
   "metadata": {},
   "outputs": [
    {
     "data": {
      "text/plain": [
       "SortedSet([Factor({0,1,2},[0x2b8b300])], key=<function factorSet.<locals>.<lambda> at 0x7f00f72e81f0>)"
      ]
     },
     "execution_count": 23,
     "metadata": {},
     "output_type": "execute_result"
    }
   ],
   "source": [
    "model.factorsWithAll( [B,E] )"
   ]
  },
  {
   "cell_type": "markdown",
   "metadata": {},
   "source": [
    "## Graph Operations"
   ]
  },
  {
   "cell_type": "markdown",
   "metadata": {},
   "source": [
    "### Conditioning on values"
   ]
  },
  {
   "cell_type": "markdown",
   "metadata": {},
   "source": [
    "Another basic operation we would like to perform is to assert, or fix, the value of one or more variables.  \n",
    "For example, suppose that we would like to understand the implications of knowing that an earthquake has occurred, $E=1$.\n",
    "\n",
    "We can view this as a transformation on the factors, and thus on the graph.  If we know that $E=1$, we can remove $E$ from each of its factors, resulting in smaller factors that only depend on the other arguments, simplifying the overall graph structure:"
   ]
  },
  {
   "cell_type": "code",
   "execution_count": 24,
   "metadata": {},
   "outputs": [
    {
     "data": {
      "image/png": "[encoded data removed]",
      "text/plain": [
       "<Figure size 432x288 with 1 Axes>"
      ]
     },
     "metadata": {},
     "output_type": "display_data"
    }
   ],
   "source": [
    "cond_E = model.copy()\n",
    "cond_E.condition({E:1})\n",
    "\n",
    "fig,ax=plt.subplots(1,1); ax.set_axis_off();\n",
    "pos = {0: (-1,0), 1:(1,0), 2:(0,-1), 3:(-1,-2), 4:(1,-2)}  # dict: { i: position of node Xi }\n",
    "gm.drawBayesNet(cond_E,node_color='w',ax=ax, pos=pos, var_labels=IDtoName);"
   ]
  },
  {
   "cell_type": "markdown",
   "metadata": {},
   "source": [
    "Although we call this \"conditioning\", it is sometimes called \"clamping\", since we are not explicitly computing the conditional distribution $p(B,A,W,H|E=1)$, but rather the partial joint distribution $p(B,E=1,A,W,H)$.  These two functions are equal up to the normalizing constant, $p(E=1)$.\n",
    "\n",
    "Note also that the graphical model still includes the variable $E$, although it is no longer connected to anything.  The model maintains a single factor over $E$, which has non-zero value only for $E=1$; e.g.,"
   ]
  },
  {
   "cell_type": "code",
   "execution_count": 25,
   "metadata": {},
   "outputs": [
    {
     "name": "stdout",
     "output_type": "stream",
     "text": [
      "Is currently a Bayes Net?  False\n",
      "We should see a single factor invoving E:\n",
      "SortedSet([Factor({1},[0x2ef8ac0])], key=<function factorSet.<locals>.<lambda> at 0x7f00f72e8160>)\n",
      "with table entries,\n",
      "[0.    0.002]\n"
     ]
    }
   ],
   "source": [
    "print(\"Is currently a Bayes Net? \", cond_E.isBN())\n",
    "print(\"We should see a single factor invoving E:\")\n",
    "print(cond_E.factorsWith(E))\n",
    "print(\"with table entries,\")\n",
    "print(cond_E.factorsWith(E)[0].table)"
   ]
  },
  {
   "cell_type": "markdown",
   "metadata": {},
   "source": [
    "In other words, the configuration $E=0$ is forbidden (probability zero), while $E=1$ retains the value of this assignment.  In this particular case, re-normalizing the distribution is trivial:"
   ]
  },
  {
   "cell_type": "code",
   "execution_count": 26,
   "metadata": {},
   "outputs": [
    {
     "name": "stdout",
     "output_type": "stream",
     "text": [
      "Updated to table entries,\n",
      "[0. 1.]\n",
      "Is now a Bayes Net?  True\n"
     ]
    }
   ],
   "source": [
    "fE = cond_E.factorsWith(E)[0]\n",
    "fE /= fE.sum()\n",
    "print(\"Updated to table entries,\")\n",
    "print(cond_E.factorsWith(E)[0].table)\n",
    "print(\"Is now a Bayes Net? \", cond_E.isBN())"
   ]
  },
  {
   "cell_type": "markdown",
   "metadata": {},
   "source": [
    "However, this re-normalization can be less trivial when our evidence (conditioned variables) are children of other variables in the Bayesian network, e.g.,"
   ]
  },
  {
   "cell_type": "code",
   "execution_count": 27,
   "metadata": {},
   "outputs": [
    {
     "data": {
      "image/png": "[encoded data removed]",
      "text/plain": [
       "<Figure size 432x288 with 1 Axes>"
      ]
     },
     "metadata": {},
     "output_type": "display_data"
    }
   ],
   "source": [
    "cond_W = model.copy()\n",
    "cond_W.condition({W:1})\n",
    "\n",
    "fig,ax=plt.subplots(1,1); ax.set_axis_off();\n",
    "pos = {0: (-1,0), 1:(1,0), 2:(0,-1), 3:(-1,-2), 4:(1,-2)}  # dict: { i: position of node Xi }\n",
    "gm.drawBayesNet(cond_W,node_color='w',ax=ax, pos=pos, var_labels=IDtoName);"
   ]
  },
  {
   "cell_type": "markdown",
   "metadata": {},
   "source": [
    "In this case, the evidence that Watson called, $W=1$, has created an un-normalized factor over the alarm, $A$; normalizing this distribution will involve connecting $B$ and $E$, since $B$ and $E$ are conditionally dependent given the observation."
   ]
  },
  {
   "cell_type": "code",
   "execution_count": 28,
   "metadata": {},
   "outputs": [
    {
     "name": "stdout",
     "output_type": "stream",
     "text": [
      "We should see a single factor invoving W:\n",
      "SortedSet([Factor({3},[0x2cf83d0])], key=<function factorSet.<locals>.<lambda> at 0x7f00f72e8040>)\n",
      "with table entries,\n",
      "[0. 1.]\n",
      "\n",
      "But now a factor over only A (the first one in the list),\n",
      "SortedSet([Factor({2},[0x2ef8b00]), Factor({2,4},[0x3001440]), Factor({0,1,2},[0x2482400])], key=<function factorSet.<locals>.<lambda> at 0x7f00f72e80d0>)\n",
      "[0.05 0.9 ]\n",
      "corresponding to the function p(W=1|A)\n"
     ]
    }
   ],
   "source": [
    "print(\"We should see a single factor invoving W:\")\n",
    "print(cond_W.factorsWith(W))\n",
    "print(\"with table entries,\")\n",
    "print(cond_W.factorsWith(W)[0].table)\n",
    "print()\n",
    "print(\"But now a factor over only A (the first one in the list),\")\n",
    "print(cond_W.factorsWith(A))\n",
    "print(cond_W.factorsWith(A)[0].table)\n",
    "print(\"corresponding to the function p(W=1|A)\")"
   ]
  },
  {
   "cell_type": "markdown",
   "metadata": {},
   "source": [
    "Since the probability of our evidence, $W=1$, depends on the value of $A$ (and thus the rest of the probability distribution), we can no longer simply read it out and re-normalize."
   ]
  },
  {
   "cell_type": "markdown",
   "metadata": {},
   "source": [
    "### Variable Elimination\n",
    "Variable elimination is a form of inference or reasoning in which we remove (eliminate) a variable from our graphical model while leaving the inference quantity of interest unchanged.  For example, we might marginalize out (sum over) a variable, resulting in the marginal probability distribution over the remaining variables. This operation preserves the partition function, or normalizing constant, of the model; for normalized distributions such as Bayesian networks, the resulting model will remain normalized; for unnormalized models (such as the CSP example), the operation preserves the number of possible solutions to the original problem.\n",
    "\n",
    "To marginalize over a variable $X_i$, we collect the factors that involve that variable, explicitly construct a factor corresponding to their combination (e.g., product), and then marginalize that factor, resulting in a new factor over the neighbors of $X_i$ that replaces the set of collected factors.  The new model no longer contains $X_i$, but may now contain a larger factor than before, depending on $X_i$'s number of neighbors."
   ]
  },
  {
   "cell_type": "code",
   "execution_count": 29,
   "metadata": {
    "scrolled": false
   },
   "outputs": [
    {
     "data": {
      "image/png": "[encoded data removed]",
      "text/plain": [
       "<Figure size 432x288 with 1 Axes>"
      ]
     },
     "metadata": {},
     "output_type": "display_data"
    }
   ],
   "source": [
    "elim_E = model.copy()\n",
    "elim_E.eliminate([1],'sum')\n",
    "\n",
    "fig,ax=plt.subplots(1,1); ax.set_axis_off();\n",
    "pos = {0: (-1,0), 1:(1,0), 2:(0,-1), 3:(-1,-2), 4:(1,-2)}  # dict: { i: position of node Xi }\n",
    "gm.drawBayesNet(elim_E,node_color='w',ax=ax, pos=pos, var_labels=IDtoName);"
   ]
  },
  {
   "cell_type": "markdown",
   "metadata": {},
   "source": [
    "Note that the \"E\" is still drawn, because we explicitly passed it in as a label with a location to `networkx` as part of `IDtoName`; but it is no longer part of the graph itself, and would be left out otherwise.\n",
    "\n",
    "As with conditioning, our model does not forget the existence of E completely; but unlike conditioning, E does not have a specific value to which it has been assigned.  The model remembers $E$'s label or ID number as a variable, but one which is involved in no factors and takes on only one state (i.e., a trivial random variable)."
   ]
  },
  {
   "cell_type": "markdown",
   "metadata": {},
   "source": [
    "## Sampling"
   ]
  },
  {
   "cell_type": "markdown",
   "metadata": {},
   "source": [
    "The factors of a Bayesian network correspond to a sequence of normalized conditional probability distributions, following an order (the Bayesian network's \"topological order\") from roots to leaves.  This means that sampling from a Bayesian network is particularly easy: we can draw the value of a root; then, conditioned on the values of the root variables, any children of roots can be sampled easily, and so on.  If our model is a Bayesian network, we can sample from it using `bnSample`:"
   ]
  },
  {
   "cell_type": "code",
   "execution_count": 30,
   "metadata": {},
   "outputs": [
    {
     "name": "stdout",
     "output_type": "stream",
     "text": [
      "Sampled config:  (0, 0, 0, 0, 0)\n",
      "Log-probability of drawing x: -0.06534663357889217\n"
     ]
    }
   ],
   "source": [
    "topo_order = gm.bnOrder(model)          # find a topological order, if one exists\n",
    "x,lnpx = gm.bnSample(model, order=topo_order)    # draw a sample following that order\n",
    "print(\"Sampled config: \",x)\n",
    "print(\"Log-probability of drawing x:\", lnpx)"
   ]
  },
  {
   "cell_type": "markdown",
   "metadata": {},
   "source": [
    "The presence of any conditioned variables in the model means that their sampled values will correspond to their assignment; so if we sample from our representation of $p(B,A,H,W|E=1)$, we still get a complete sample of $X$ in which we are guaranteed to have $E=1$."
   ]
  },
  {
   "cell_type": "code",
   "execution_count": 31,
   "metadata": {},
   "outputs": [
    {
     "name": "stdout",
     "output_type": "stream",
     "text": [
      "Sampled config:  (0, 1, 0, 0, 0)\n",
      "Log-probability of drawing x: -0.40483443952141157\n"
     ]
    }
   ],
   "source": [
    "x,lnpx = gm.bnSample(cond_E, order=topo_order)    # draw a sample following that order\n",
    "print(\"Sampled config: \",x)\n",
    "print(\"Log-probability of drawing x:\", lnpx)"
   ]
  },
  {
   "cell_type": "markdown",
   "metadata": {},
   "source": [
    "`bnSample` returns both the configuration of the model, and the log-probability; this allows it to be used in algorithms such as forward sampling, that can be applied to Bayesian networks with evidence or other unnormalized graphical models.  If the model is normalized, the returned log-probability is simply $\\log p(x)$; however, if the model is un-normalized, the samples are being drawn from some normalized approximation $q(X)$, and the returned value corresponds to this sampling probability, $\\log q(x)$."
   ]
  },
  {
   "cell_type": "code",
   "execution_count": 32,
   "metadata": {},
   "outputs": [
    {
     "name": "stdout",
     "output_type": "stream",
     "text": [
      "For p(X|E=1), we evaluate directly and find: [-0.40483444] , the same value as was returned.\n",
      "\n",
      "If we attempt to sample from the non-normalized p(X,W=1), we get:\n",
      "  Sampled config:  (0, 0, 1, 1, 1)\n",
      "  Log-probability of drawing x: -0.4137446682132649\n",
      "while the direct evaluation gives: [-7.37279324] , a different value.\n"
     ]
    }
   ],
   "source": [
    "print(\"For p(X|E=1), we evaluate directly and find:\", cond_E.logValue( x ), \", the same value as was returned.\")\n",
    "print()\n",
    "      \n",
    "print(\"If we attempt to sample from the non-normalized p(X,W=1), we get:\")\n",
    "x,lnpx = gm.bnSample(cond_W, order=topo_order)    # draw a sample following that order\n",
    "print(\"  Sampled config: \",x)\n",
    "print(\"  Log-probability of drawing x:\", lnpx)\n",
    "print(\"while the direct evaluation gives:\", cond_W.logValue( x ) , \", a different value.\")"
   ]
  },
  {
   "cell_type": "markdown",
   "metadata": {},
   "source": [
    "## Consolidating Factors\n",
    "\n",
    "In normalized models such as Bayesian networks, there is a specific meaning to each factor, which corresponds to a single variable's conditional distribution.  In undirected models, the factors have no specific meaning; but they are still useful by helping understand the conditional independence of the model.  In the undirected setting, however, it is only the maximal cliques which determine this conditional independence; any smaller factors can be subsumed into a larger factor that contains the same variables.  In `GraphModel`, the `makeMinimal` function will reduce the number of factors using this technique:"
   ]
  },
  {
   "cell_type": "code",
   "execution_count": 33,
   "metadata": {},
   "outputs": [
    {
     "name": "stdout",
     "output_type": "stream",
     "text": [
      "Original factors: [Factor({0},[0x3000700]), Factor({1},[0x2966150]), Factor({2},[0x2ef8b00]), Factor({3},[0x2cf83d0]), Factor({2,4},[0x3001440]), Factor({0,1,2},[0x2482400])]\n",
      "Consolidated factors: [Factor({3},[0x2f12030]), Factor({2,4},[0x2f0ad10]), Factor({0,1,2},[0x28eaa50])]\n"
     ]
    }
   ],
   "source": [
    "makemin = cond_W.copy()\n",
    "makemin.makeMinimal()\n",
    "print(\"Original factors:\", list(cond_W.factors))\n",
    "print(\"Consolidated factors:\", list(makemin.factors))"
   ]
  },
  {
   "cell_type": "markdown",
   "metadata": {},
   "source": [
    "This can be important in some algorithms, such as message passing algorithms, which may behave differently on models that have multiple factors joining a set of variables.\n",
    "\n",
    "Some message passing algorithms prefer to instead preserve any \"singleton\" (single-variable) factors, only merging non-singleton factors; we call this the \"canonical\" representation:"
   ]
  },
  {
   "cell_type": "code",
   "execution_count": 34,
   "metadata": {},
   "outputs": [
    {
     "name": "stdout",
     "output_type": "stream",
     "text": [
      "Original factors: [Factor({0},[0x3000700]), Factor({1},[0x2966150]), Factor({2},[0x2ef8b00]), Factor({3},[0x2cf83d0]), Factor({2,4},[0x3001440]), Factor({0,1,2},[0x2482400])]\n",
      "Canonical factors: [Factor({0},[0x2b02350]), Factor({1},[0x2f12050]), Factor({2},[0x2f2ac80]), Factor({3},[0x1f466a0]), Factor({2,4},[0x2e345a0]), Factor({0,1,2},[0x24aef10])]\n"
     ]
    }
   ],
   "source": [
    "makecan = cond_W.copy()\n",
    "makecan.makeCanonical()\n",
    "print(\"Original factors:\", list(cond_W.factors))\n",
    "print(\"Canonical factors:\", list(makecan.factors))"
   ]
  },
  {
   "cell_type": "markdown",
   "metadata": {},
   "source": [
    "## Saving and Loading Models"
   ]
  },
  {
   "cell_type": "markdown",
   "metadata": {},
   "source": [
    "The `pyGMs` package supports a number of file formats for representing graphical models.  The most common of these is the \".uai\" format, used in inference competitions at the Conference on Uncertainty in Artificial Intelligence (UAI).  The \".uai\" format has up to three components: the model factors themselves, which can be read using,"
   ]
  },
  {
   "cell_type": "code",
   "execution_count": 35,
   "metadata": {},
   "outputs": [
    {
     "name": "stdout",
     "output_type": "stream",
     "text": [
      "100 factors read.\n"
     ]
    }
   ],
   "source": [
    "factor_list = gm.readUai('../tests/data/BN_0.uai')\n",
    "print(f'{len(factor_list)} factors read.')"
   ]
  },
  {
   "cell_type": "markdown",
   "metadata": {},
   "source": [
    "and then, for the purpose of defining an inference task, there may be an \"evidence file\" that includes additional assignments to variables in the model,"
   ]
  },
  {
   "cell_type": "code",
   "execution_count": 36,
   "metadata": {},
   "outputs": [
    {
     "name": "stdout",
     "output_type": "stream",
     "text": [
      "26 variables should be assigned values before inference\n"
     ]
    }
   ],
   "source": [
    "evid = gm.readEvidence14('../tests/data/BN_0.uai.evid')\n",
    "print(f'{len(evid)} variables should be assigned values before inference')"
   ]
  },
  {
   "cell_type": "markdown",
   "metadata": {},
   "source": [
    "and finally, for some tasks (e.g., marginal MAP), there may be a \"query\" file defining which variables to estimate.\n",
    "\n",
    "The query file consists of just a list of variable ID numbers, and so uses the same format that `pyGMs` uses for saving and reloading elimination orders, e.g.,"
   ]
  },
  {
   "cell_type": "code",
   "execution_count": 38,
   "metadata": {},
   "outputs": [],
   "source": [
    "order = [0,1,2,3,4,5]\n",
    "gm.writeOrder('../tests/data/example.ord', order)\n",
    "order = gm.readOrder('../tests/data/example.ord')"
   ]
  },
  {
   "cell_type": "markdown",
   "metadata": {},
   "source": [
    "Other formats that can be read and/or written include:\n",
    "* Ergo (`readErgo`, `writeErgo`; for Bayesian networks)\n",
    "* WCSP (`readWCSP`, `writeWCSP`; for weighted constraint satisfaction problems)\n",
    "* GeNIe XML DSL (`readDSL`; for Bayesian networks)\n",
    "* LiMID (`readLimid`; Dennis Maua's limited memory influence diagram format)\n",
    "* LimID CRA (`readLimidCRA`; a slightly different LiMID format from Charles River Analytics)"
   ]
  },
  {
   "cell_type": "code",
   "execution_count": null,
   "metadata": {},
   "outputs": [],
   "source": []
  }
 ],
 "metadata": {
  "kernelspec": {
   "display_name": "Python 3",
   "language": "python",
   "name": "python3"
  },
  "language_info": {
   "codemirror_mode": {
    "name": "ipython",
    "version": 3
   },
   "file_extension": ".py",
   "mimetype": "text/x-python",
   "name": "python",
   "nbconvert_exporter": "python",
   "pygments_lexer": "ipython3",
   "version": "3.8.10"
  }
 },
 "nbformat": 4,
 "nbformat_minor": 4
}
