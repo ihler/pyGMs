{
 "cells": [
  {
   "cell_type": "markdown",
   "metadata": {},
   "source": [
    "# POMDPs and LIMIDs\n",
    "\n",
    "In this example, we'll look at the \"Pigs\" problem from __[Lauritzen and Nilsson (2001)](http://web.math.ku.dk/~lauritzen/papers/limids.pdf)__, which describes a short temporal Markov decision process with latent (not directly observable) variables, as both a classic (perfect recall) influence diagram, and a limited-information influence diagram (LimID).  \n",
    "\n",
    "The problem set-up is:\n",
    "\n",
    ">A pig breeder is growing pigs for a period of four months and subsequently selling them.   During this period the pig may or may not develop a certain disease.  If the pig has the disease at the time it must be sold, the pig must be sold for slaughtering, and its expected market price is then 300 DKK (Danish kroner).  If it is disease free, its expected market price as a breeding animal is 1000 DKK.\n",
    "\n",
    ">Once a month, a veterinary doctor sees the pig and makes a test for presence of the disease.  If the pig is ill, the test will indicate this with probability 0.80, and if the pig is healthy, the test will indicate this with probability 0.90.  At each monthly visit, the doctor may or may not treat the pig for the disease by injecting a certain drug.  The cost of an injection is 100 DKK.\n",
    "\n",
    ">A pig has the disease in the first month with probability 0.10. A healthy pig develops the disease in the subsequent month with probability 0.20 without injection, whereas a healthy and treated pig develops the disease with probability 0.10, so the injection has some preventative effect.  An untreated pig that is unhealthy will remain so in the subsequent month with probability 0.90, whereas the similar probability is 0.50 for an unhealthy pig that is treated.  Thus spontaneous cure is possible, but treatment is beneficial on average."
   ]
  },
  {
   "cell_type": "code",
   "execution_count": 1,
   "metadata": {},
   "outputs": [],
   "source": [
    "import numpy as np\n",
    "import pyGMs as gm\n",
    "import matplotlib.pyplot as plt   # use matplotlib for plotting with inline plots\n",
    "%matplotlib inline                "
   ]
  },
  {
   "cell_type": "markdown",
   "metadata": {},
   "source": [
    "We start by defining the chance and decision variables of the model:"
   ]
  },
  {
   "cell_type": "code",
   "execution_count": 2,
   "metadata": {},
   "outputs": [],
   "source": [
    "H1,H2,H3,H4 = (gm.Var(i,2) for i in [0,1,2,3])  # latent, \"healthy at month t\" variables\n",
    "T1,T2,T3 = (gm.Var(i,2) for i in [4,5,6])       # test results at month t\n",
    "D1,D2,D3 = (gm.Var(i,2) for i in [7,8,9])       # decision to treat at month t\n",
    "\n",
    "pH1 = gm.Factor([H1], [.1,.9])      # pig starts with disease with prob 0.10\n",
    "pH12= gm.Factor([H1,H2,D1], 0.)\n",
    "pH12[0,:,0] = [.9,.1]               # unhealthy & untreated, stays unhealthy with prob 0.9\n",
    "pH12[1,:,0] = [.2,.8]               # healhty & untreated, stays healthy with prob 0.8\n",
    "pH12[0,:,1] = [.5,.5]               # unhealthy & treated, cured with prob 0.5\n",
    "pH12[1,:,1] = [.1,.9]               # healthy & treated, stays healthy with prob 0.9\n",
    "\n",
    "pH23 = gm.Factor([H2,H3,D2], pH12.table)  # same probabilities for months 2-3\n",
    "pH34 = gm.Factor([H3,H4,D3], pH12.table)  # and months 3-4\n",
    "\n",
    "pT1 = gm.Factor([H1,T1],0.)         # test health at month t\n",
    "pT1[0,:] = [.8,.2]                  # matches true health with prob .8 or .9\n",
    "pT1[1,:] = [.1,.9]\n",
    "\n",
    "pT2 = gm.Factor([H2,T2], pT1.table) # same for months 2 & 3\n",
    "pT3 = gm.Factor([H3,T3], pT1.table)\n",
    "\n",
    "U1 = gm.Factor([D1], [0, -100])     # injecting costs 100 DKK\n",
    "U2 = gm.Factor([D2], [0, -100])     # injecting costs 100 DKK\n",
    "U3 = gm.Factor([D3], [0, -100])     # injecting costs 100 DKK\n",
    "U4 = gm.Factor([H4], [300,1000])    # healthy pigs are worth more in month 4\n",
    "\n",
    "CFactors = [pH1,pH12,pH23,pH34,pT1,pT2,pT3]         # chance factors (CPTs)\n",
    "DList = [[T1,D1],[T1,T2,D1,D2],[T1,T2,T3,D1,D2,D3]] # decisions: D1 depends on T1 & past history\n",
    "UFactors = [U1,U2,U3,U4]                            # utility functions"
   ]
  },
  {
   "cell_type": "markdown",
   "metadata": {},
   "source": [
    "The influence diagram picture of this problem contains random or \"chance\" variables (drawn as circles), the decisions or actions we can take (squares), and the utilities that influence our decisions (diamonds).  As with a Bayesian network, the parents of chance variable nodes dictate their conditional probability distribution; the parents of utility nodes indicate what influences the utility, and the edges incoming to a decision node (sometimes called informational arcs) tell us on what we can base that decision.\n",
    "\n",
    "We can draw the influence diagram for the Pigs problem:"
   ]
  },
  {
   "cell_type": "code",
   "execution_count": 3,
   "metadata": {},
   "outputs": [
    {
     "data": {
      "image/png": "[encoded data removed]",
      "text/plain": [
       "<matplotlib.figure.Figure at 0x7f2b0a0bc3d0>"
      ]
     },
     "metadata": {},
     "output_type": "display_data"
    }
   ],
   "source": [
    "pos = {H1:(0,3),H2:(1,3),H3:(2,3),H4:(3,3), T1:(0,2),T2:(1,2),T3:(2,2), D1:(0,1),D2:(1,1),D3:(2,1), \n",
    "      -1:(0,0),-2:(1,0),-3:(2,0),-4:(4,3),}\n",
    "\n",
    "labels = {H1:'H1',H2:'H2',H3:'H3',H4:'H4', T1:'T1',T2:'T2',T3:'T3', D1:'D1',D2:'D2',D3:'D3', \n",
    "          -1:'U1',-2:'U2',-3:'U3',-4:'U4'}\n",
    "    \n",
    "gm.drawLimid(None, CFactors,DList,UFactors, pos=pos, labels=labels, arrowsize=20, node_size=700);\n",
    "ax=plt.gca(); ax.set_axis_off();"
   ]
  },
  {
   "cell_type": "markdown",
   "metadata": {},
   "source": [
    "### Valuation Algebra and Variable Elimination\n",
    "\n",
    "Rather than deal separately with probabilities and utilties, it is useful to frame our problem in terms of \"valuations\", which are pairs of probability and utility functions.  Then, computing expected utilities can be framed as a standard variable elimination procedure on a model consisting of valuations:"
   ]
  },
  {
   "cell_type": "code",
   "execution_count": 4,
   "metadata": {},
   "outputs": [],
   "source": [
    "from valuation import Valuation, factor_to_valuation\n",
    "\n",
    "valuations = [factor_to_valuation(f,'P',False) for f in CFactors] + \\\n",
    "             [factor_to_valuation(u,'U',False) for u in UFactors]\n",
    "info_arcs = [factor_to_valuation(gm.Factor(d,1.),'P',False) for d in DList]\n",
    "modelU = gm.GraphModel( valuations + info_arcs )"
   ]
  },
  {
   "cell_type": "markdown",
   "metadata": {},
   "source": [
    "Now, we can frame finding the optimal policy as an interleaved max/sum elimination procedure.  First, we eliminate any variables that do not have any decisions as ancestors; these are unobservable random variables:"
   ]
  },
  {
   "cell_type": "code",
   "execution_count": 5,
   "metadata": {
    "collapsed": true
   },
   "outputs": [],
   "source": [
    "modelU.eliminate([H1,H2,H3,H4],'sum')  # cannot observe pig's true health"
   ]
  },
  {
   "cell_type": "markdown",
   "metadata": {},
   "source": [
    "For decision variables, we maximize over the possible choices, selecting a policy that depends on any (connected) uneliminated variables.  This gives solving an ID exactly a nested \"sum-max-sum\" variable elimination form:"
   ]
  },
  {
   "cell_type": "code",
   "execution_count": 6,
   "metadata": {
    "collapsed": true
   },
   "outputs": [],
   "source": [
    "modelU.eliminate([D3],'max')    # solve for the optimal policy at time 3\n",
    "modelU.eliminate([T3],'sum')    # average over test observations at time 3\n",
    "\n",
    "modelU.eliminate([D2],'max')    # select the optimal policy at time 2\n",
    "modelU.eliminate([T2],'sum')    # and average over test observations at time 2"
   ]
  },
  {
   "cell_type": "markdown",
   "metadata": {},
   "source": [
    "By this time we have only one decision remaining (the first injection decision), and our policy depends only on the first test outcome.  We can look at the expected utilities associated with each possible policy:"
   ]
  },
  {
   "cell_type": "code",
   "execution_count": 7,
   "metadata": {},
   "outputs": [
    {
     "name": "stdout",
     "output_type": "stream",
     "text": [
      "T1=0 => D1 = 0  ([114.7302 106.2531])\n",
      "T1=1 => D1 = 0  ([614.4948 550.6209])\n"
     ]
    }
   ],
   "source": [
    "flist = modelU.factorsWith(D1)\n",
    "F = flist[0].copy()\n",
    "for f in flist[1:]: F*=f;\n",
    "policy = F.util.table.argmax( F.util.vars.index(D1) )\n",
    "for t1 in [0,1]:\n",
    "    print(\"T1={} => D1 = {}  ({})\".format(t1,policy[t1],F.util.condition({T1:t1}).table))"
   ]
  },
  {
   "cell_type": "markdown",
   "metadata": {},
   "source": [
    "This indicates that, if the pig tests unhealthy in month 1, it is optimal not to inject, and it will have an expected value of 114.7 DKK; if the pig tests healthy, it is still optimal not to inject, with an expected value of 614.5 DKK.\n",
    "\n",
    "Completing the elimination process, we arrive at the expected value of a pig given the optimal injection policy:"
   ]
  },
  {
   "cell_type": "code",
   "execution_count": 8,
   "metadata": {},
   "outputs": [
    {
     "name": "stdout",
     "output_type": "stream",
     "text": [
      "[729.225]\n"
     ]
    }
   ],
   "source": [
    "modelU.eliminate([D1],'max')\n",
    "modelU.eliminate([T1],'sum')\n",
    "print(modelU.joint().util.table)"
   ]
  },
  {
   "cell_type": "markdown",
   "metadata": {},
   "source": [
    "## LIMID version\n",
    "\n",
    "The limited-memory version of the pig problem supposes that, due to a lack of records on each individual pig, we do not know the past test results at the time of each decision (only the current test results).  This means that our decisions may be sub-optimal (compared to the best decision given the complete observation history), but also simplifies their form (the policy can no longer depend on older tests, and is thus a simpler function):"
   ]
  },
  {
   "cell_type": "code",
   "execution_count": 9,
   "metadata": {
    "collapsed": true
   },
   "outputs": [],
   "source": [
    "CFactors = [pH1,pH12,pH23,pH34,pT1,pT2,pT3]         # chance factors (CPTs)\n",
    "DList = [[T1,D1],[T2,D2],[T3,D3]]                   # decisions: now Dt depends only on Tt\n",
    "UFactors = [U1,U2,U3,U4]                            # utility functions"
   ]
  },
  {
   "cell_type": "code",
   "execution_count": 10,
   "metadata": {},
   "outputs": [
    {
     "data": {
      "image/png": "[encoded data removed]",
      "text/plain": [
       "<matplotlib.figure.Figure at 0x7f2b07ddf610>"
      ]
     },
     "metadata": {},
     "output_type": "display_data"
    }
   ],
   "source": [
    "pos = {H1:(0,3),H2:(1,3),H3:(2,3),H4:(3,3), T1:(0,2),T2:(1,2),T3:(2,2), D1:(0,1),D2:(1,1),D3:(2,1), \n",
    "      -1:(0,0),-2:(1,0),-3:(2,0),-4:(4,3),}\n",
    "\n",
    "labels = {H1:'H1',H2:'H2',H3:'H3',H4:'H4', T1:'T1',T2:'T2',T3:'T3', D1:'D1',D2:'D2',D3:'D3', \n",
    "          -1:'U1',-2:'U2',-3:'U3',-4:'U4'}\n",
    "    \n",
    "gm.drawLimid(None, CFactors,DList,UFactors, pos=pos, labels=labels, arrowsize=20, node_size=700);\n",
    "ax=plt.gca(); ax.set_axis_off();"
   ]
  },
  {
   "cell_type": "markdown",
   "metadata": {},
   "source": [
    "Some limited-information strategies suggested in the original paper are: uniform (treat at random), never, always, or direct (if that month's test result is positive):"
   ]
  },
  {
   "cell_type": "code",
   "execution_count": 11,
   "metadata": {},
   "outputs": [],
   "source": [
    "pD1_uniform = gm.Factor([T1,D1],[[.5,.5],[.5,.5]])  # randomly give medicine\n",
    "pD1_never = gm.Factor([T1,D1],[[1,0],[1,0]])        # never give medicine\n",
    "pD1_always = gm.Factor([T1,D1],[[0,1],[0,1]])       # always give medicine\n",
    "pD1_direct = gm.Factor([T1,D1],[[0,1],[1,0]])       # give medicine if test unhealthy"
   ]
  },
  {
   "cell_type": "markdown",
   "metadata": {},
   "source": [
    "If the policies of the decision nodes are fixed, they can be viewed as random variables, and we can compute the expected value of the policy by simple marginalization.  Notably, this can follow a simpler elimination order than the perfect-recall ID, since now (for example) H3 is a sufficient statistic for the decision D3.\n",
    "\n",
    "We can compute the expected values of the various fixed policies:"
   ]
  },
  {
   "cell_type": "code",
   "execution_count": 12,
   "metadata": {},
   "outputs": [
    {
     "name": "stdout",
     "output_type": "stream",
     "text": [
      "[718.16667]\n"
     ]
    }
   ],
   "source": [
    "pD1 = pD1_direct                         # build the policy\n",
    "pD2 = gm.Factor([T2,D2],pD1.table)\n",
    "pD3 = gm.Factor([T3,D3],pD1.table)\n",
    "\n",
    "valuations = [factor_to_valuation(f,'P',False) for f in CFactors] + \\\n",
    "             [factor_to_valuation(u,'U',False) for u in UFactors]\n",
    "info_arcs = [factor_to_valuation(d,'P',False) for d in [pD1,pD2,pD3]]\n",
    "modelU = gm.GraphModel( valuations + info_arcs )\n",
    "\n",
    "modelU.eliminate([H4,D3,T3,H3,D2,T2,H2,D1,T1,H1],'sum')\n",
    "print(modelU.joint().util.table)"
   ]
  },
  {
   "cell_type": "code",
   "execution_count": 13,
   "metadata": {},
   "outputs": [
    {
     "name": "stdout",
     "output_type": "stream",
     "text": [
      "[669.39]\n"
     ]
    }
   ],
   "source": [
    "pD1 = pD1_never                         # build the policy\n",
    "pD2 = gm.Factor([T2,D2],pD1.table)\n",
    "pD3 = gm.Factor([T3,D3],pD1.table)\n",
    "info_arcs = [factor_to_valuation(d,'P',False) for d in [pD1,pD2,pD3]]\n",
    "\n",
    "modelU = gm.GraphModel( valuations + info_arcs )\n",
    "modelU.eliminate([H4,D3,T3,H3,D2,T2,H2,D1,T1,H1],'sum')\n",
    "print(modelU.joint().util.table)"
   ]
  },
  {
   "cell_type": "code",
   "execution_count": 14,
   "metadata": {},
   "outputs": [
    {
     "name": "stdout",
     "output_type": "stream",
     "text": [
      "[643.84125]\n"
     ]
    }
   ],
   "source": [
    "pD1 = pD1_uniform                         # build the policy\n",
    "pD2 = gm.Factor([T2,D2],pD1.table)\n",
    "pD3 = gm.Factor([T3,D3],pD1.table)\n",
    "info_arcs = [factor_to_valuation(d,'P',False) for d in [pD1,pD2,pD3]]\n",
    "\n",
    "modelU = gm.GraphModel( valuations + info_arcs )\n",
    "modelU.eliminate([H4,D3,T3,H3,D2,T2,H2,D1,T1,H1],'sum')\n",
    "print(modelU.joint().util.table)"
   ]
  },
  {
   "cell_type": "code",
   "execution_count": 15,
   "metadata": {},
   "outputs": [
    {
     "name": "stdout",
     "output_type": "stream",
     "text": [
      "[586.32]\n"
     ]
    }
   ],
   "source": [
    "pD1 = pD1_always                         # build the policy\n",
    "pD2 = gm.Factor([T2,D2],pD1.table)\n",
    "pD3 = gm.Factor([T3,D3],pD1.table)\n",
    "policies = [factor_to_valuation(d,'P',False) for d in [pD1,pD2,pD3]]\n",
    "\n",
    "modelU = gm.GraphModel( valuations + policies )\n",
    "modelU.eliminate([H4,D3,T3,H3,D2,T2,H2,D1,T1,H1],'sum')\n",
    "print(modelU.joint().util.table)"
   ]
  },
  {
   "cell_type": "markdown",
   "metadata": {},
   "source": [
    "These computations match the values reported in the original work."
   ]
  },
  {
   "cell_type": "markdown",
   "metadata": {},
   "source": [
    "### Optimizing the LIMID policies using SPU"
   ]
  },
  {
   "cell_type": "markdown",
   "metadata": {},
   "source": [
    "For a LIMID, it is not easy to find the optimal policy in closed form, as it is no longer equivalent to a simple variable elimination framing.  A simple approach proposed in Lauritzen & Nilsson (2001) is \"Single Policy Updating\" (SPU), which iteratively updates each decision's policy to be optimal, given the current policies of the other decisions.  In SPU, at each step, only a single decision exists (the others are all viewed as chance nodes), and we can solve for that decision's policy using elimination."
   ]
  },
  {
   "cell_type": "code",
   "execution_count": 47,
   "metadata": {},
   "outputs": [
    {
     "name": "stdout",
     "output_type": "stream",
     "text": [
      "SPU It 0.0: EU = 680.0775\n",
      "SPU It 0.1: EU = 702.4095\n",
      "SPU It 0.2: EU = 726.812098281\n",
      "SPU It 1.0: EU = 726.812098281\n",
      "SPU It 1.1: EU = 726.812098242\n",
      "SPU It 1.2: EU = 726.812098242\n",
      "SPU It 2.0: EU = 726.812098242\n",
      "SPU It 2.1: EU = 726.812098242\n",
      "SPU It 2.2: EU = 726.812098242\n",
      "SPU It 3.0: EU = 726.812098242\n",
      "SPU It 3.1: EU = 726.812098242\n",
      "SPU It 3.2: EU = 726.812098242\n",
      "SPU It 4.0: EU = 726.812098242\n",
      "SPU It 4.1: EU = 726.812098242\n",
      "SPU It 4.2: EU = 726.812098242\n"
     ]
    }
   ],
   "source": [
    "CFactors = [pH1,pH12,pH23,pH34,pT1,pT2,pT3]         # chance factors (CPTs)\n",
    "DList = [[T1,D1],[T2,D2],[T3,D3]]                   # decisions: now Dt depends only on Tt\n",
    "UFactors = [U1,U2,U3,U4]                            # utility functions\n",
    "\n",
    "pD1 = pD1_uniform                                   # initialize the policy\n",
    "pD2 = gm.Factor([T2,D2],pD1.table)\n",
    "pD3 = gm.Factor([T3,D3],pD1.table)\n",
    "\n",
    "valuations = [factor_to_valuation(f,'P',False) for f in CFactors] + \\\n",
    "             [factor_to_valuation(u,'U',False) for u in UFactors]\n",
    "policies = [factor_to_valuation(d,'P',False) for d in [pD1,pD2,pD3]]\n",
    "modelU = gm.GraphModel( valuations + policies )\n",
    "\n",
    "# Find elimination orders that leave each decision until last:\n",
    "orders = [gm.eliminationOrder(modelU,'wtminfill',priority=[1 if x in p.vars else 0 for x in modelU.X])[0] for p in [pD1,pD2,pD3]]\n",
    "\n",
    "for it in range(5):\n",
    "    for i in range(3):\n",
    "        model = gm.GraphModel( valuations + policies[:i]+policies[i+1:] )  # Model with all policies but i's\n",
    "        Di = DList[i][-1]\n",
    "        model.eliminate(orders[i][:-policies[i].nvar],'sum')               # Eliminate all but policy i's vars\n",
    "        EU = model.joint()\n",
    "        \n",
    "        delta_i = (EU.util/EU.util.max([Di]))**(1000)       # make delta_i a (nearly) deterministic policy\n",
    "        delta_i = delta_i / delta_i.sum([Di])\n",
    "        policies[i] = factor_to_valuation(delta_i,'P',False)\n",
    "        \n",
    "        print(\"SPU It {}.{}: EU = {}\".format(it,i,(delta_i*EU.util).sum()))"
   ]
  },
  {
   "cell_type": "markdown",
   "metadata": {},
   "source": [
    "This procedure will fairily quickly converge on a locally optimal set of policies.  We can see that, in this example, we get pretty close to the optimal utility (729 DKK) even with the limited information (current test results only) on which to base our decisions."
   ]
  }
 ],
 "metadata": {
  "kernelspec": {
   "display_name": "Python 3",
   "language": "python",
   "name": "python3"
  },
  "language_info": {
   "codemirror_mode": {
    "name": "ipython",
    "version": 3
   },
   "file_extension": ".py",
   "mimetype": "text/x-python",
   "name": "python",
   "nbconvert_exporter": "python",
   "pygments_lexer": "ipython3",
   "version": "3.8.10"
  }
 },
 "nbformat": 4,
 "nbformat_minor": 1
}
