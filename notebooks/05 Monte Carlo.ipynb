{
 "cells": [
  {
   "cell_type": "markdown",
   "metadata": {},
   "source": [
    "# pyGMs Introduction: Monte Carlo Approximations"
   ]
  },
  {
   "cell_type": "code",
   "execution_count": 1,
   "metadata": {},
   "outputs": [],
   "source": [
    "import numpy as np\n",
    "import pyGMs as gm\n",
    "import pyGMs.montecarlo   # get Monte Carlo sub-functions\n",
    "import matplotlib.pyplot as plt"
   ]
  },
  {
   "cell_type": "markdown",
   "metadata": {},
   "source": [
    "Monte Carlo approximations are a set of methods to approximate inference (answering queries about our model) using randomness.  These usually rely on writing our inference queries as expectations, i.e., averages over the probability distribution $p(x)$ defined by our model, and then using random samples to approximate these expectations.  However, since our graphical model may contain many complex interactions, directly sampling from it may not be easy.\n",
    "\n",
    "In general, Monte Carlo approximations fall into two broad categories: **importance sampling** methods, which draw samples from an easy-to-sample surrogate distribution (called the \"proposal distribution\") and then \"adjusts\" these samples to represent our target model $p(x)$; and **Markov chain Monte Carlo**, which uses a random simulation process that, if run for sufficently long (read: impractically long), would generate samples from $p(x)$."
   ]
  },
  {
   "cell_type": "markdown",
   "metadata": {},
   "source": [
    "### Example Model\n",
    "\n",
    "Let us first build a simple graphical model on which to perform our inference tasks:"
   ]
  },
  {
   "cell_type": "code",
   "execution_count": 2,
   "metadata": {},
   "outputs": [
    {
     "data": {
      "image/png": "[encoded data removed]",
      "text/plain": [
       "<Figure size 500x300 with 1 Axes>"
      ]
     },
     "metadata": {},
     "output_type": "display_data"
    }
   ],
   "source": [
    "h,w = 3,4\n",
    "X = [gm.Var(i,3) for i in range(h*w)]\n",
    "tab = np.array([[1,0,0],[0,.9,0],[0,0,.8]])+.1\n",
    "factors  = [gm.Factor([X[h*i+j],X[h*i+j+1]],tab) for i in range(w) for j in range(h-1)]\n",
    "factors += [gm.Factor([X[h*i+j],X[h*i+j+h]],tab) for i in range(w-1) for j in range(h)]\n",
    "\n",
    "pos = {i:(i//h,-(i%h)) for i in range(h*w)}\n",
    "\n",
    "model = gm.GraphModel(factors)\n",
    "\n",
    "order = list(range(w*h))            # default elimination order\n",
    "\n",
    "fig,ax=plt.subplots(1,1,figsize=(5,3)); ax.set_axis_off();\n",
    "gm.drawMarkovGraph(model,node_color='w',ax=ax, pos=pos);"
   ]
  },
  {
   "cell_type": "markdown",
   "metadata": {},
   "source": [
    "### Sampling-based estimators\n",
    "\n",
    "If we can generate exact samples from a distribution, we can use empirical frequncies to estimate values.  However, our model is not in a form that is easy to sample.  If we find the sequence of probabilities $p(X_0)$, $p(X_1|X_0)$, ... $p(X_n|\\ldots)$, we can use forward sampling to draw a value $x_0$, then $x_1$ given our sampled $x_0$, and so forth.  But, finding these probabilities requires inference.  We can use a *junction tree* inference algorithm to compute these probabilities, after which we could then draw samples:"
   ]
  },
  {
   "cell_type": "code",
   "execution_count": 3,
   "metadata": {},
   "outputs": [
    {
     "name": "stdout",
     "output_type": "stream",
     "text": [
      "p(X0) ~  [0.82 0.16 0.02]\n",
      "p(X3,X4) ~  [[0.82 0.   0.  ]\n",
      " [0.   0.16 0.  ]\n",
      " [0.01 0.   0.01]]\n"
     ]
    }
   ],
   "source": [
    "import pyGMs.wmb\n",
    "\n",
    "jt = gm.wmb.JTree(model, order,'sum+')   # do the work to find f(x)'s normalized sampling distribution\n",
    "\n",
    "samples = gm.d2t([jt.sample()[0] for s in range(100)])  # draw samples\n",
    "\n",
    "beliefs = gm.misc.empirical( [ [X[0]], [X[3],X[4]] ] , samples, normalize=True)  # estimate frequencies\n",
    "\n",
    "print('p(X0) ~ ',beliefs[0].table)\n",
    "print('p(X3,X4) ~ ',beliefs[1].table)"
   ]
  },
  {
   "cell_type": "markdown",
   "metadata": {},
   "source": [
    "### Basic sampling estimators\n",
    "\n",
    "If we do not want to compute the exact $p(X)$ -- for example, if the graph has high width -- we can define a simpler proposal and use an importance sampling estimator.  Since sampling operators return both a configuration $x$ and the probability of generating $x$, a basic importance sampler is easy:\n",
    "\n",
    "We first create an easy-to-sample-from distribution.  In this case, we will just select a tree-structured sub-graph of our full model. (Alternatively, we could get a distribution from an approximate inference algorithm, such as weighted mini-bucket (WMB), for example.)"
   ]
  },
  {
   "cell_type": "code",
   "execution_count": 4,
   "metadata": {},
   "outputs": [
    {
     "data": {
      "image/png": "[encoded data removed]",
      "text/plain": [
       "<Figure size 500x300 with 1 Axes>"
      ]
     },
     "metadata": {},
     "output_type": "display_data"
    }
   ],
   "source": [
    "span_tree = factors[:h-1] + factors[w*(h-1):]\n",
    "tree_submodel = gm.GraphModel(span_tree)\n",
    "tree_order,_ = gm.eliminationOrder(tree_submodel, 'minwidth')\n",
    "proposal = gm.wmb.JTree(tree_submodel, tree_order, 'sum+')  # cheap: tree is only width 1\n",
    "\n",
    "fig,ax=plt.subplots(1,1,figsize=(5,3)); ax.set_axis_off();\n",
    "gm.drawMarkovGraph(tree_submodel,node_color='w',ax=ax, pos=pos);"
   ]
  },
  {
   "cell_type": "markdown",
   "metadata": {},
   "source": [
    "The importance sampling estimator draws samples $x\\sim q(X)$, and assigns them an importance weight given by $w = f(x)/q(x)$.  Then, we can estimate queries using these weighted samples.  A common estimator is the self-normalized importance sampler, in which we collect the weights, normalize them, and then use the weighted empirical expectations for our queries:"
   ]
  },
  {
   "cell_type": "code",
   "execution_count": 5,
   "metadata": {},
   "outputs": [
    {
     "name": "stdout",
     "output_type": "stream",
     "text": [
      "p(X0) ~  [0.76948977 0.22949689 0.00101335]\n",
      "p(X3,X4) ~  [[8.48589703e-01 4.52602264e-04 6.57859913e-05]\n",
      " [1.78389829e-04 1.49170405e-01 4.06543144e-04]\n",
      " [1.19298477e-04 5.43693993e-04 4.73578802e-04]]\n"
     ]
    }
   ],
   "source": [
    "draws = [ (x,model.logValue(x)-lnw) for s in range(100) for x,lnw in [proposal.sample()] ]\n",
    "samples, log_weights = gm.d2t([x for x,wt in draws]), [lnw for x,lnw in draws]\n",
    "\n",
    "weights_selfnorm = np.exp( np.array(log_weights) );\n",
    "weights_selfnorm /= weights_selfnorm.sum()\n",
    "\n",
    "beliefs = gm.misc.empirical( [ [X[0]], [X[3],X[4]] ] , samples, weights_selfnorm)  # estimate frequencies\n",
    "\n",
    "print('p(X0) ~ ',beliefs[0].table)\n",
    "print('p(X3,X4) ~ ',beliefs[1].table)"
   ]
  },
  {
   "cell_type": "markdown",
   "metadata": {},
   "source": [
    "We can see this is reasonably accurate compared to the exact sampler with a similar number of draws."
   ]
  },
  {
   "cell_type": "markdown",
   "metadata": {},
   "source": [
    "### Online estimation of expectations\n",
    "\n",
    "We may not want to store all of the samples we are drawing, since we are really only interested in the resulting estimates.  `pyGMs` has some data structures for maintaining online estimates of empirical quantities, specifically for Monte Carlo methods.\n",
    "\n",
    "Suppose we want to estimate the expected value of some function, e.g. $g(x) = x_1/(x_2+1)$.  We can create an object that tracks this expectation:"
   ]
  },
  {
   "cell_type": "code",
   "execution_count": 6,
   "metadata": {},
   "outputs": [
    {
     "name": "stdout",
     "output_type": "stream",
     "text": [
      "10 samples, estimate: [0.02542452]\n",
      "20 samples, estimate: [0.0270161]\n",
      "30 samples, estimate: [0.02918323]\n",
      "40 samples, estimate: [0.02555842]\n",
      "50 samples, estimate: [0.02748369]\n",
      "60 samples, estimate: [0.02935625]\n",
      "70 samples, estimate: [0.02864389]\n",
      "80 samples, estimate: [0.03172661]\n",
      "90 samples, estimate: [0.03226535]\n",
      "100 samples, estimate: [0.02947861]\n"
     ]
    }
   ],
   "source": [
    "g = lambda x: x[1]/(x[2]+1)\n",
    "\n",
    "stats = gm.montecarlo.EmpiricalStatistics(g)\n",
    "\n",
    "for s in range(100):\n",
    "    x,lnw = proposal.sample(); \n",
    "    wt = np.exp(model.logValue(x)-lnw);\n",
    "    stats.update(x,wt)\n",
    "    if (s+1)%10==0: print(f'{s+1} samples, estimate: {stats()}')"
   ]
  },
  {
   "cell_type": "markdown",
   "metadata": {},
   "source": [
    "We can also check some basic statistics about the data that have been accumulated, such as the \"effective number of samples\":"
   ]
  },
  {
   "cell_type": "code",
   "execution_count": 7,
   "metadata": {},
   "outputs": [
    {
     "name": "stdout",
     "output_type": "stream",
     "text": [
      "After 99 samples, our effective number of samples is [24.02650633]\n"
     ]
    }
   ],
   "source": [
    "print(f'After {s} samples, our effective number of samples is {stats.neff}')"
   ]
  },
  {
   "cell_type": "markdown",
   "metadata": {},
   "source": [
    "If we wish to track multiple expectations, we can give them as a list:"
   ]
  },
  {
   "cell_type": "code",
   "execution_count": 8,
   "metadata": {},
   "outputs": [
    {
     "name": "stdout",
     "output_type": "stream",
     "text": [
      "10 samples, estimate: [0.018726908109627634, 0.03745381621925527]\n",
      "20 samples, estimate: [0.020126291365294504, 0.03522100988926538]\n",
      "30 samples, estimate: [0.013811452958629889, 0.03255556768819902]\n",
      "40 samples, estimate: [0.024242144038908744, 0.07532380469232358]\n",
      "50 samples, estimate: [0.03600572948436801, 0.08289691206866122]\n",
      "60 samples, estimate: [0.0451263744039589, 0.10069521561213966]\n",
      "70 samples, estimate: [0.04112396253693945, 0.09504204675203781]\n",
      "80 samples, estimate: [0.03940024988726575, 0.09706551627856194]\n",
      "90 samples, estimate: [0.04378294685400673, 0.1057008421090813]\n",
      "100 samples, estimate: [0.043878220116250186, 0.10782839198780628]\n"
     ]
    },
    {
     "name": "stderr",
     "output_type": "stream",
     "text": [
      "/var/folders/mk/c779r669401fcm1j1n9x37v80000gn/T/ipykernel_35444/3138104555.py:7: DeprecationWarning: Conversion of an array with ndim > 0 to a scalar is deprecated, and will error in future. Ensure you extract a single element from your array before performing this operation. (Deprecated NumPy 1.25.)\n",
      "  wt = float(np.exp(model.logValue(x)-lnw));\n"
     ]
    }
   ],
   "source": [
    "g2 = lambda x: x[0]*x[1]\n",
    "\n",
    "stats = gm.montecarlo.EmpiricalStatistics([g,g2])\n",
    "\n",
    "for s in range(100):\n",
    "    x,lnw = proposal.sample(); \n",
    "    wt = float(np.exp(model.logValue(x)-lnw));\n",
    "    stats.update(x,wt)\n",
    "    if (s+1)%10==0: print(f'{s+1} samples, estimate: {stats()}')"
   ]
  },
  {
   "cell_type": "markdown",
   "metadata": {},
   "source": [
    "Often, what we want are the marginal probabilities of *many* sub-configurations of the model, e.g., the marginal distribution $p(X_1,X_2)$, etc. There is a specialized object for tracking the marginal probabilites of `VarSet`s:"
   ]
  },
  {
   "cell_type": "code",
   "execution_count": 9,
   "metadata": {},
   "outputs": [
    {
     "name": "stdout",
     "output_type": "stream",
     "text": [
      "Marginal probability of 1st factor, mu(X{0,1}): \n",
      "[[8.27255990e-01 6.92913150e-05 3.46283433e-08]\n",
      " [6.44571983e-04 1.51158744e-01 2.59366292e-05]\n",
      " [6.23310180e-07 3.49746268e-06 2.08413108e-02]]\n"
     ]
    }
   ],
   "source": [
    "marg = gm.montecarlo.EmpiricalMarginals( model.factors )  # get marginals of all factors\n",
    "for s in range(100):\n",
    "    x,lnw = proposal.sample(); \n",
    "    marg.update(x,np.exp(model.logValue(x)-lnw))\n",
    "print(f'Marginal probability of 1st factor, mu(X{marg[0].vars}): \\n{marg[0].table}')"
   ]
  },
  {
   "cell_type": "markdown",
   "metadata": {},
   "source": [
    "If you would like to draw samples for a fixed amount of time, there is a helper function that can assist:"
   ]
  },
  {
   "cell_type": "code",
   "execution_count": 10,
   "metadata": {},
   "outputs": [
    {
     "name": "stdout",
     "output_type": "stream",
     "text": [
      "Drew 14399.0 samples, Neff [2547.92546172]: [array([0.04051948]), array([0.11051306])]\n"
     ]
    }
   ],
   "source": [
    "stats.reset()                  # reset sample accumulation\n",
    "\n",
    "for t in gm.timelimit(10):        # ~10 second time limit\n",
    "    x,lnw = proposal.sample();\n",
    "    stats.update(x,np.exp(model.logValue(x)-lnw))\n",
    "print(f'Drew {stats.nsamples} samples, Neff {stats.neff}: {stats()}')"
   ]
  },
  {
   "cell_type": "code",
   "execution_count": null,
   "metadata": {},
   "outputs": [],
   "source": []
  },
  {
   "cell_type": "markdown",
   "metadata": {},
   "source": [
    "## Markov Chain Monte Carlo\n",
    "\n",
    "The other basic strategy of Monte Carlo methods is to form a sequential, stochastic process (\"Markov chain\") which, when simulated, will *eventually* result in a sample from the target distribution $p(X)$.  There are many approaches, but the two most common are Gibbs sampling and its variants, and the slightly more general Metropolis-Hastings algorithm.\n",
    "\n",
    "In general, since MCMC approaches are designed to give samples (asymptotically) from $p(X)$, we do not associate the samples with a weight."
   ]
  },
  {
   "cell_type": "markdown",
   "metadata": {},
   "source": [
    "### Gibbs Sampling\n",
    "The simplest MCMC sampler is the Gibbs sampler, which stochastically updates one (or a few) variables at a time, given the current values of the other variables."
   ]
  },
  {
   "cell_type": "code",
   "execution_count": 11,
   "metadata": {},
   "outputs": [],
   "source": [
    "all_zeros = (0,)*len(model.X)   # we may want to start the chain in a known state\n",
    "\n",
    "gs = pyGMs.montecarlo.GibbsSampler(model,chains=1, init_states=[all_zeros])"
   ]
  },
  {
   "cell_type": "markdown",
   "metadata": {},
   "source": [
    "Each call to ``sample()`` performs one or more forward steps of the Markov chain simulation process.  You can \"burn in\" (move away from the initial condition) $T$ steps by calling `sample()` $T$ times, or by calling ``sample(T)``.  Then, to decimate the chain by some amount $t$, you can generate each subsequent sample by calling ``sample(t)``."
   ]
  },
  {
   "cell_type": "code",
   "execution_count": 12,
   "metadata": {},
   "outputs": [
    {
     "name": "stdout",
     "output_type": "stream",
     "text": [
      "p(X0) ~  [0.99 0.01 0.  ]\n",
      "p(X3,X4) ~  [[1. 0. 0.]\n",
      " [0. 0. 0.]\n",
      " [0. 0. 0.]]\n"
     ]
    }
   ],
   "source": [
    "_ = gs.sample(10)                               # burn in by 10 steps\n",
    "samples = [gs.sample(5)[0] for i in range(100)] # Generate 100 samples, each 5 steps apart\n",
    "\n",
    "beliefs = gm.misc.empirical( [ [X[0]], [X[3],X[4]] ] , samples, normalize=True)  # estimate frequencies\n",
    "\n",
    "print('p(X0) ~ ',beliefs[0].table)\n",
    "print('p(X3,X4) ~ ',beliefs[1].table)"
   ]
  },
  {
   "cell_type": "markdown",
   "metadata": {},
   "source": [
    "### Metropolis-Hastings"
   ]
  },
  {
   "cell_type": "markdown",
   "metadata": {},
   "source": [
    "#### <span style=\"color:red\"> TODO: TBD </span>"
   ]
  },
  {
   "cell_type": "code",
   "execution_count": null,
   "metadata": {},
   "outputs": [],
   "source": []
  },
  {
   "cell_type": "markdown",
   "metadata": {},
   "source": [
    "### Annealed Importance Sampling\n",
    "\n",
    "AIS is an algorithm that uses MCMC to produce samples, but does so within an importance sampling framework, so that the nice properties of importance sampling can be preserved.  It does more work per sample than standard IS, but (hopefully) results in samples that are closer to the target distribution $p(X)$, and thus a higher effective sample size.\n",
    "\n",
    "To use AIS, we need a \"base\" proposal distribution that is represented as a Bayesian network, so that it can be both forward-sampled and used in MCMC.  For demonstration, we will make a base that is an independent distribution, with single-variable probabilities obtained through a WMB approximation:"
   ]
  },
  {
   "cell_type": "code",
   "execution_count": 13,
   "metadata": {},
   "outputs": [],
   "source": [
    "wmb = gm.wmb.WMB(model,order,iBound=1,weights='sum+')\n",
    "wmb.msgForward(0.5,0.0)\n",
    "mu = wmb.msgBackward(0,0, beliefs=[gm.VarSet([x]) for x in model.X])\n",
    "base = gm.GraphModel([mu[f] for f in mu])\n",
    "\n",
    "# Can verify that the resulting model is a Bayes net, if desired:\n",
    "# base_order=gm.bnOrder(base)\n",
    "# base.isBN()\n",
    "# gm.bnSample(base,base_order)"
   ]
  },
  {
   "cell_type": "code",
   "execution_count": 15,
   "metadata": {},
   "outputs": [
    {
     "data": {
      "text/plain": [
       "((0, 0, 0, 0, 0, 0, 0, 0, 0, 0, 0, 0), array([-6.47120408]))"
      ]
     },
     "execution_count": 15,
     "metadata": {},
     "output_type": "execute_result"
    }
   ],
   "source": [
    "gm.montecarlo.AnnealedImportanceSampling(model,None,base,T=10)"
   ]
  },
  {
   "cell_type": "code",
   "execution_count": 16,
   "metadata": {},
   "outputs": [
    {
     "name": "stdout",
     "output_type": "stream",
     "text": [
      "p(X0) ~  [9.99968427e-01 1.11990054e-08 3.15615851e-05]\n",
      "p(X3,X4) ~  [[9.99999989e-01 0.00000000e+00 0.00000000e+00]\n",
      " [1.11990054e-08 0.00000000e+00 0.00000000e+00]\n",
      " [0.00000000e+00 0.00000000e+00 0.00000000e+00]]\n"
     ]
    },
    {
     "name": "stderr",
     "output_type": "stream",
     "text": [
      "/var/folders/mk/c779r669401fcm1j1n9x37v80000gn/T/ipykernel_35444/376270306.py:3: DeprecationWarning: Conversion of an array with ndim > 0 to a scalar is deprecated, and will error in future. Ensure you extract a single element from your array before performing this operation. (Deprecated NumPy 1.25.)\n",
      "  samples, log_weights = [x for x,wt in draws], [float(wt) for x,wt in draws]\n"
     ]
    }
   ],
   "source": [
    "draws = [ gm.montecarlo.AnnealedImportanceSampling(model,None,base,T=10,K=5) for s in range(100)]\n",
    "\n",
    "samples, log_weights = [x for x,wt in draws], [float(wt) for x,wt in draws]\n",
    "\n",
    "weights_selfnorm = np.exp(model.logValue(samples)-log_weights);\n",
    "weights_selfnorm /= weights_selfnorm.sum()\n",
    "\n",
    "beliefs = gm.misc.empirical( [ [X[0]], [X[3],X[4]] ] , samples, weights_selfnorm)  # estimate frequencies\n",
    "\n",
    "print('p(X0) ~ ',beliefs[0].table)\n",
    "print('p(X3,X4) ~ ',beliefs[1].table)"
   ]
  },
  {
   "cell_type": "code",
   "execution_count": 17,
   "metadata": {},
   "outputs": [
    {
     "name": "stdout",
     "output_type": "stream",
     "text": [
      "Base distribution IS gives Neff=[2.28966462] at 100.0 samples\n"
     ]
    }
   ],
   "source": [
    "margIS  = gm.montecarlo.EmpiricalMarginals( model.factors ) \n",
    "\n",
    "base_order=gm.bnOrder(base)\n",
    "for s in range(100):\n",
    "    x,lnw = gm.bnSample(base, base_order)\n",
    "    margIS.update(x,np.exp(model.logValue(x)-lnw))\n",
    "    \n",
    "print(f'Base distribution IS gives Neff={margIS.neff} at {margIS.nsamples} samples')"
   ]
  },
  {
   "cell_type": "code",
   "execution_count": 18,
   "metadata": {},
   "outputs": [
    {
     "name": "stdout",
     "output_type": "stream",
     "text": [
      "AIS with 20 temps, 1 step(s) per temp gives Neff=[3.96571482] at 100.0 samples\n"
     ]
    }
   ],
   "source": [
    "margAIS = gm.montecarlo.EmpiricalMarginals( model.factors ) \n",
    "\n",
    "T=20; K=1;\n",
    "for s in range(100):\n",
    "    x,lnw = gm.montecarlo.AnnealedImportanceSampling(model,None,base,T=T,K=K)\n",
    "    margAIS.update(x,np.exp(model.logValue(x)-lnw))\n",
    "    \n",
    "print(f'AIS with {T} temps, {K} step(s) per temp gives Neff={margAIS.neff} at {margAIS.nsamples} samples')"
   ]
  },
  {
   "cell_type": "code",
   "execution_count": null,
   "metadata": {},
   "outputs": [],
   "source": []
  },
  {
   "cell_type": "code",
   "execution_count": null,
   "metadata": {},
   "outputs": [],
   "source": []
  }
 ],
 "metadata": {
  "kernelspec": {
   "display_name": "Python 3 (ipykernel)",
   "language": "python",
   "name": "python3"
  },
  "language_info": {
   "codemirror_mode": {
    "name": "ipython",
    "version": 3
   },
   "file_extension": ".py",
   "mimetype": "text/x-python",
   "name": "python",
   "nbconvert_exporter": "python",
   "pygments_lexer": "ipython3",
   "version": "3.11.7"
  }
 },
 "nbformat": 4,
 "nbformat_minor": 4
}
