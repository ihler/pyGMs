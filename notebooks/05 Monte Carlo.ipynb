{
 "cells": [
  {
   "cell_type": "markdown",
   "metadata": {},
   "source": [
    "# pyGMs Introduction: Monte Carlo Approximations"
   ]
  },
  {
   "cell_type": "code",
   "execution_count": 1,
   "metadata": {},
   "outputs": [],
   "source": [
    "import numpy as np\n",
    "import pyGMs as gm\n",
    "import matplotlib.pyplot as plt"
   ]
  },
  {
   "cell_type": "markdown",
   "metadata": {},
   "source": [
    "... Monte Carlo estimators and sampling ...\n",
    "\n",
    "### <span style=\"color:red\"> TODO: lots </span>"
   ]
  },
  {
   "cell_type": "markdown",
   "metadata": {},
   "source": [
    "### Example Model\n",
    "\n",
    "Let us first build a simple graphical model on which to perform our inference tasks:"
   ]
  },
  {
   "cell_type": "code",
   "execution_count": 2,
   "metadata": {},
   "outputs": [
    {
     "data": {
      "image/png": "[encoded data removed]",
      "text/plain": [
       "<Figure size 360x216 with 1 Axes>"
      ]
     },
     "metadata": {},
     "output_type": "display_data"
    }
   ],
   "source": [
    "h,w = 3,4\n",
    "X = [gm.Var(i,3) for i in range(h*w)]\n",
    "tab = np.array([[1,0,0],[0,.9,0],[0,0,.8]])+.1\n",
    "factors  = [gm.Factor([X[h*i+j],X[h*i+j+1]],tab) for i in range(w) for j in range(h-1)]\n",
    "factors += [gm.Factor([X[h*i+j],X[h*i+j+h]],tab) for i in range(w-1) for j in range(h)]\n",
    "\n",
    "pos = {i:(i//h,-(i%h)) for i in range(h*w)}\n",
    "\n",
    "model = gm.GraphModel(factors)\n",
    "\n",
    "order = list(range(w*h))            # default elimination order\n",
    "\n",
    "fig,ax=plt.subplots(1,1,figsize=(5,3)); ax.set_axis_off();\n",
    "gm.drawMarkovGraph(model,node_color='w',ax=ax, pos=pos);"
   ]
  },
  {
   "cell_type": "code",
   "execution_count": 3,
   "metadata": {},
   "outputs": [],
   "source": [
    "def d2t(dict_cfg,n):\n",
    "    tup_cfg = tuple(dict_cfg.get(i,np.nan) for i in range(n))\n",
    "    return tup_cfg"
   ]
  },
  {
   "cell_type": "markdown",
   "metadata": {},
   "source": [
    "### Sampling-based estimators\n",
    "If we can generate exact samples from a distribution, we can use empirical frequncies to estimate values:"
   ]
  },
  {
   "cell_type": "code",
   "execution_count": 11,
   "metadata": {},
   "outputs": [
    {
     "name": "stdout",
     "output_type": "stream",
     "text": [
      "p(X0) ~  [0.83 0.14 0.03]\n",
      "p(X3,X4) ~  [[0.84 0.   0.  ]\n",
      " [0.   0.14 0.  ]\n",
      " [0.   0.   0.02]]\n"
     ]
    }
   ],
   "source": [
    "import pyGMs.wmb\n",
    "\n",
    "jt = gm.wmb.JTree(model, order,'sum+')   # do the work to find f(x)'s normalized sampling distribution\n",
    "\n",
    "samples = [d2t(jt.sample()[0],w*h) for s in range(100)]  # draw samples\n",
    "\n",
    "beliefs = gm.misc.empirical( [ [X[0]], [X[3],X[4]] ] , samples, normalize=True)  # estimate frequencies\n",
    "\n",
    "print('p(X0) ~ ',beliefs[0].table)\n",
    "print('p(X3,X4) ~ ',beliefs[1].table)"
   ]
  },
  {
   "cell_type": "markdown",
   "metadata": {},
   "source": [
    "### Basic sampling estimators\n",
    "\n",
    "If we do not want to compute the exact $p(X)$ -- for example, if the graph has high width -- we can define a simpler proposal and use an importance sampling estimator.  Since sampling operators return both a configuration $x$ and the probability of generating $x$, a basic importance sampler is easy:\n",
    "\n",
    "We first create an easy-to-sample-from distribution.  In this case, we will just select a tree-structured sub-graph of our full model. (Alternatively, we could get a distribution from weighted mini-bucket (WMB), for example.)"
   ]
  },
  {
   "cell_type": "code",
   "execution_count": 5,
   "metadata": {},
   "outputs": [
    {
     "data": {
      "image/png": "[encoded data removed]",
      "text/plain": [
       "<Figure size 360x216 with 1 Axes>"
      ]
     },
     "metadata": {},
     "output_type": "display_data"
    }
   ],
   "source": [
    "span_tree = factors[:h-1] + factors[w*(h-1):]\n",
    "tree_submodel = gm.GraphModel(span_tree)\n",
    "tree_order,_ = gm.eliminationOrder(tree_submodel, 'minwidth')\n",
    "proposal = gm.wmb.JTree(tree_submodel, tree_order, 'sum+')  # tree is only width 1\n",
    "\n",
    "fig,ax=plt.subplots(1,1,figsize=(5,3)); ax.set_axis_off();\n",
    "gm.drawMarkovGraph(tree_submodel,node_color='w',ax=ax, pos=pos);"
   ]
  },
  {
   "cell_type": "markdown",
   "metadata": {},
   "source": [
    "The importance sampling estimator draws samples $x\\sim q(X)$, and assigns them an importance weight given by $w = f(x)/q(x)$.  Then, we can estimate queries using these weighted samples.  A common estimator is the self-normalized importance sampler, in which we collect the weights, normalize them, and then use the weighted empirical expectations for our queries:"
   ]
  },
  {
   "cell_type": "code",
   "execution_count": 10,
   "metadata": {},
   "outputs": [
    {
     "name": "stdout",
     "output_type": "stream",
     "text": [
      "p(X0) ~  [0.83735772 0.11969859 0.04294369]\n",
      "p(X3,X4) ~  [[8.36628960e-01 1.21259691e-04 2.74649625e-05]\n",
      " [1.19487636e-03 1.15319358e-01 2.78035716e-05]\n",
      " [9.39452211e-05 3.76243650e-03 4.28238963e-02]]\n"
     ]
    }
   ],
   "source": [
    "draws = [ (x,model.logValue(x)-wt) for s in range(100) for x,wt in [proposal.sample()] ]\n",
    "samples, log_weights = [d2t(x,w*h) for x,wt in draws], [wt for x,wt in draws]\n",
    "\n",
    "weights_selfnorm = np.exp( np.array(log_weights) );\n",
    "weights_selfnorm /= weights_selfnorm.sum()\n",
    "\n",
    "beliefs = gm.misc.empirical( [ [X[0]], [X[3],X[4]] ] , samples, weights_selfnorm)  # estimate frequencies\n",
    "\n",
    "print('p(X0) ~ ',beliefs[0].table)\n",
    "print('p(X3,X4) ~ ',beliefs[1].table)"
   ]
  },
  {
   "cell_type": "markdown",
   "metadata": {},
   "source": [
    "We can see this is reasonably accurate compared to the exact sampler with a similar number of draws."
   ]
  },
  {
   "cell_type": "markdown",
   "metadata": {},
   "source": [
    "### Query Structures\n",
    "\n",
    "More generally, Monte Carlo estimators run in an any-time manner...\n",
    "\n",
    "We define a \"Query\" structure to capture what information we would like to retain from the state vector; then we can pass this into a sampling procedure (importance sampling, Markov chain Monte Carlo, etc.) and let it run while it updates and saves only the information relevant to the query.\n",
    "\n",
    "For example, suppose we would like to run Gibbs sampling for 1000 steps, decimating our samples by a factor of 3 and keeping only the last 10 samples:"
   ]
  },
  {
   "cell_type": "code",
   "execution_count": 14,
   "metadata": {},
   "outputs": [
    {
     "name": "stdout",
     "output_type": "stream",
     "text": [
      "[[2, 2, 2, 2, 2, 2, 2, 2, 2, 2, 2, 2], [2, 2, 2, 2, 2, 2, 2, 2, 2, 2, 2, 2], [2, 2, 2, 2, 2, 2, 2, 2, 2, 2, 2, 2], [2, 2, 2, 2, 2, 2, 2, 2, 2, 2, 2, 2], [2, 2, 2, 2, 2, 2, 2, 2, 2, 2, 2, 2], [2, 2, 2, 2, 2, 2, 2, 2, 2, 2, 2, 2], [2, 2, 2, 2, 2, 2, 2, 2, 2, 2, 2, 2], [2, 2, 2, 2, 2, 2, 2, 2, 2, 2, 2, 2], [2, 2, 2, 2, 2, 2, 2, 2, 2, 2, 2, 2], [2, 2, 2, 2, 2, 2, 2, 2, 2, 2, 2, 2]]\n"
     ]
    }
   ],
   "source": [
    "import pyGMs.montecarlo\n",
    "\n",
    "query = gm.montecarlo.QuerySamples(keep=10, stride=3)\n",
    "\n",
    "gm.montecarlo.GibbsSampling(model, query, stopSamples=1000)\n",
    "\n",
    "print(query())"
   ]
  },
  {
   "cell_type": "markdown",
   "metadata": {},
   "source": [
    "### <span style=\"color:red\"> TODO: lots </span>"
   ]
  },
  {
   "cell_type": "code",
   "execution_count": null,
   "metadata": {},
   "outputs": [],
   "source": []
  }
 ],
 "metadata": {
  "kernelspec": {
   "display_name": "Python 3",
   "language": "python",
   "name": "python3"
  },
  "language_info": {
   "codemirror_mode": {
    "name": "ipython",
    "version": 3
   },
   "file_extension": ".py",
   "mimetype": "text/x-python",
   "name": "python",
   "nbconvert_exporter": "python",
   "pygments_lexer": "ipython3",
   "version": "3.8.10"
  }
 },
 "nbformat": 4,
 "nbformat_minor": 4
}
