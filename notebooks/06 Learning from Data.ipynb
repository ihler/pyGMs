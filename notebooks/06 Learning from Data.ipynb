{
 "cells": [
  {
   "cell_type": "markdown",
   "metadata": {},
   "source": [
    "# pyGMs Introduction: Learning from Data"
   ]
  },
  {
   "cell_type": "code",
   "execution_count": 1,
   "metadata": {},
   "outputs": [],
   "source": [
    "import numpy as np\n",
    "import pyGMs as gm\n",
    "import matplotlib.pyplot as plt"
   ]
  },
  {
   "cell_type": "markdown",
   "metadata": {},
   "source": [
    "... data, likelihood, model fitting, etc. ...\n",
    "\n",
    "### <span style=\"color:red\"> TODO: lots </span>"
   ]
  },
  {
   "cell_type": "markdown",
   "metadata": {},
   "source": [
    "## Assessing Model Fit\n",
    "\n",
    "Let us use the Alarm Bayesian network to illustrate data likelihood:"
   ]
  },
  {
   "cell_type": "code",
   "execution_count": 3,
   "metadata": {},
   "outputs": [],
   "source": [
    "B = gm.Var(0,2)   # Was there a burglary at Sherlock Holmes' house?\n",
    "E = gm.Var(1,2)   # Was there an earthquake?\n",
    "A = gm.Var(2,2)   # Has the alarm gone off?\n",
    "W = gm.Var(3,2)   # Has Watson called to complain?\n",
    "H = gm.Var(4,2)   # Has Mrs Hudson called to complain?\n",
    "\n",
    "X = [B,E,A,W,H]   # we'll often refer to variables as Xi or X[i]\n",
    "\n",
    "names = dict( (eval(n).label,n) for n in ['B','E','A','W','H'])\n",
    "\n",
    "p_E = gm.Factor([E], [.998, .002]) # probability of earthquake (false,true)\n",
    "p_B = gm.Factor([B], [.999, .001]) # probability of burglary\n",
    "p_A_BE = gm.Factor([A,B,E], 0.0)   # alarm given B,E\n",
    "# Set  B,E,A                       # \n",
    "p_A_BE[0,0,:] = [.999, .001]       # \n",
    "p_A_BE[0,1,:] = [.710, .290]       \n",
    "p_A_BE[1,0,:] = [.060, .940]       # For each setting (b,e), the table should sum to one over A\n",
    "p_A_BE[1,1,:] = [.050, .950]       #   so that it corresponds to a conditional probability\n",
    "\n",
    "p_W_A = gm.Factor([A,W], 0.0)      # Probability that Watson calls given the alarm's status\n",
    "p_W_A[0,:]    = [.95, .05]\n",
    "p_W_A[1,:]    = [.10, .90]\n",
    "\n",
    "p_H_A = gm.Factor([A,H], 0.0)      # Probability that Mrs Hudson calls given the alarm's status\n",
    "p_H_A[0,:]    = [.99, .01]\n",
    "p_H_A[1,:]    = [.30, .70]\n",
    "\n",
    "factors = [p_W_A, p_H_A, p_A_BE, p_E, p_B]  # collect all the factors that define the model\n",
    "\n",
    "model = gm.GraphModel([p_E,p_B,p_A_BE,p_W_A,p_H_A])"
   ]
  },
  {
   "cell_type": "markdown",
   "metadata": {},
   "source": [
    "### Data Likelihood"
   ]
  },
  {
   "cell_type": "markdown",
   "metadata": {},
   "source": [
    "Suppose that we observe some data, $D$:"
   ]
  },
  {
   "cell_type": "code",
   "execution_count": 14,
   "metadata": {},
   "outputs": [],
   "source": [
    "D = [(0, 0, 0, 1, 1), (1, 1, 0, 1, 0), (1, 1, 0, 1, 1), (1, 0, 0, 1, 0), (0, 1, 1, 1, 1), \n",
    "     (0, 1, 1, 1, 0), (0, 1, 0, 1, 1), (0, 0, 1, 1, 1), (1, 0, 1, 1, 0), (1, 0, 0, 1, 1)]"
   ]
  },
  {
   "cell_type": "markdown",
   "metadata": {},
   "source": [
    "How likely is this data under our model?  Since our model is normalized, we can compute the log likelihood of each point, $\\log p(x)$, by just evaluating the model at $x$:"
   ]
  },
  {
   "cell_type": "code",
   "execution_count": 15,
   "metadata": {},
   "outputs": [
    {
     "name": "stdout",
     "output_type": "stream",
     "text": [
      "[array([-7.60490546]), array([-19.12387826]), array([-23.71899811]), array([-12.72895061]), array([-7.91551841]), array([-8.76281627]), array([-14.15900137]), array([-7.37279324]), array([-8.28096601]), array([-17.32407046])]\n",
      "\n",
      "Average log-likeliood of D: -12.699189820279875\n"
     ]
    }
   ],
   "source": [
    "LL = [model.logValue(x) for x in D]\n",
    "print(LL)\n",
    "print()\n",
    "print(f'Average log-likeliood of D: {np.mean(LL)}')"
   ]
  },
  {
   "cell_type": "markdown",
   "metadata": {},
   "source": [
    "But what if our model is not normalized?  In that case, we need both $\\log f(x)$, the evaluation of our model at $x$, and also the normalizing constant (or partition function), $Z$:"
   ]
  },
  {
   "cell_type": "code",
   "execution_count": 18,
   "metadata": {},
   "outputs": [
    {
     "name": "stdout",
     "output_type": "stream",
     "text": [
      "[array([-4.65106295]), array([-16.17003574]), array([-20.76515559]), array([-9.77510809]), array([-4.9616759]), array([-5.80897376]), array([-11.20515885]), array([-4.41895073]), array([-5.32712349]), array([-14.37022794])]\n",
      "\n",
      "Average log-likeliood of D given W=1: -9.745347304424087\n"
     ]
    }
   ],
   "source": [
    "model_W = model.copy()\n",
    "model_W.condition({W:1})  # model given that we know Watson called\n",
    "\n",
    "elim = model_W.copy()\n",
    "elim.eliminate(X, 'sum')\n",
    "lnZ = elim.logValue([])\n",
    "\n",
    "LL = [model_W.logValue(x) - lnZ for x in D]\n",
    "print(LL)\n",
    "print()\n",
    "print(f'Average log-likeliood of D given W=1: {np.mean(LL)}')"
   ]
  },
  {
   "cell_type": "markdown",
   "metadata": {},
   "source": [
    "The helper function `loglikelihood` can perform this calculation for you, either calculating log Z, or using a known value if optionally passed:"
   ]
  },
  {
   "cell_type": "code",
   "execution_count": 26,
   "metadata": {},
   "outputs": [
    {
     "name": "stdout",
     "output_type": "stream",
     "text": [
      "[[ -4.65106295]\n",
      " [-16.17003574]\n",
      " [-20.76515559]\n",
      " [ -9.77510809]\n",
      " [ -4.9616759 ]\n",
      " [ -5.80897376]\n",
      " [-11.20515885]\n",
      " [ -4.41895073]\n",
      " [ -5.32712349]\n",
      " [-14.37022794]]\n"
     ]
    }
   ],
   "source": [
    "LL = gm.loglikelihood(model_W,D)   # pass \"logZ=lnZ\" if lnZ is already calculated\n",
    "print(LL)"
   ]
  },
  {
   "cell_type": "markdown",
   "metadata": {},
   "source": [
    "### Pseudo-likelihood"
   ]
  },
  {
   "cell_type": "markdown",
   "metadata": {},
   "source": [
    "Unfortunately, a major complication of using log-likelihood for scoring models is the requirement of calculating the log partition function, which can be computationally difficult.  The computationally simpler \"pseudo-likelihood\" is sometimes used in its place:"
   ]
  },
  {
   "cell_type": "code",
   "execution_count": 27,
   "metadata": {},
   "outputs": [
    {
     "name": "stdout",
     "output_type": "stream",
     "text": [
      "[ -5.4225763  -20.61720497 -30.64518144 -14.19056285  -1.36277531\n",
      "  -2.57890251 -17.40618398  -2.06181856  -1.94167805 -24.21651688]\n"
     ]
    }
   ],
   "source": [
    "PLL = gm.pseudologlikelihood(model_W,np.array(D))\n",
    "print(PLL)"
   ]
  },
  {
   "cell_type": "markdown",
   "metadata": {},
   "source": [
    "While not the same as likelihood, the pseudolikelihood can be used to assess relative fit or guide a learning process.  We can see that in our example samples, the log-likelihood and pseudo-loglikelihood are correlated, with data points exhibiting either relatively lower values or higher values for both:"
   ]
  },
  {
   "cell_type": "code",
   "execution_count": 32,
   "metadata": {},
   "outputs": [
    {
     "data": {
      "image/png": "[encoded data removed]",
      "text/plain": [
       "<Figure size 432x288 with 1 Axes>"
      ]
     },
     "metadata": {
      "needs_background": "light"
     },
     "output_type": "display_data"
    }
   ],
   "source": [
    "plt.plot(LL,PLL,'b.',ms=12);"
   ]
  },
  {
   "cell_type": "markdown",
   "metadata": {},
   "source": [
    "## Fitting a Model to Data"
   ]
  },
  {
   "cell_type": "markdown",
   "metadata": {},
   "source": [
    "Divide into two cases:\n",
    "* Where the model structure and parameters are unknown\n",
    "* Where the parameters are unknown, but the model structure is known"
   ]
  },
  {
   "cell_type": "code",
   "execution_count": 63,
   "metadata": {},
   "outputs": [],
   "source": [
    "D = [(1, 0, 1, 1, 0), (0, 1, 0, 1, 1), (0, 1, 1, 0, 1), (1, 1, 1, 1, 0), (0, 1, 1, 1, 1), \n",
    "     (1, 1, 1, 1, 0), (1, 1, 1, 1, 0), (0, 1, 1, 1, 0), (0, 1, 1, 0, 0), (1, 0, 1, 0, 1)]"
   ]
  },
  {
   "cell_type": "markdown",
   "metadata": {},
   "source": [
    "### Chow-Liu Trees\n",
    "We can efficiently find both the tree structure and parameters that maximize the likelihood of our data over all tree-structured graphs using an algorithm known as Chow-Liu:"
   ]
  },
  {
   "cell_type": "code",
   "execution_count": 64,
   "metadata": {},
   "outputs": [
    {
     "data": {
      "image/png": "[encoded data removed]",
      "text/plain": [
       "<Figure size 432x288 with 1 Axes>"
      ]
     },
     "metadata": {},
     "output_type": "display_data"
    }
   ],
   "source": [
    "model_cl = gm.fit_chowliu(np.array(D))\n",
    "\n",
    "fig,ax=plt.subplots(1,1); ax.set_axis_off();\n",
    "gm.drawMarkovGraph(model_cl,node_color='w');"
   ]
  },
  {
   "cell_type": "markdown",
   "metadata": {},
   "source": [
    "The function can add a BIC complexity penalty allowing it to select a forest, i.e., select fewer edges when they do not improve the log likelihood sufficiently.  Data can also be given weights, for example data from importance sampling, or weighted data during expectation-maximization learning."
   ]
  },
  {
   "cell_type": "code",
   "execution_count": null,
   "metadata": {},
   "outputs": [],
   "source": []
  },
  {
   "cell_type": "markdown",
   "metadata": {},
   "source": [
    "Fit methods\n",
    "* Chow Liu\n",
    "* BN Brute Force\n",
    "* ILP optimization\n",
    "* Group-L1-penalized PLL\n",
    "* Independence tests\n",
    "* Greedy?\n",
    "\n",
    "Refit methods\n",
    "* PLL (sgd; scipy.opt)\n",
    "* Gradient (estimator?)\n",
    "  * JT/MC/MCMC/Decomp/Var - work per gradient step?\n",
    "* IPF\n",
    "  * Infer method? VE/JT/etc\n",
    "  * \"full fit\" vs fixed point update (gradient like?)\n"
   ]
  },
  {
   "cell_type": "code",
   "execution_count": null,
   "metadata": {},
   "outputs": [],
   "source": []
  },
  {
   "cell_type": "code",
   "execution_count": null,
   "metadata": {},
   "outputs": [],
   "source": []
  }
 ],
 "metadata": {
  "kernelspec": {
   "display_name": "Python 3",
   "language": "python",
   "name": "python3"
  },
  "language_info": {
   "codemirror_mode": {
    "name": "ipython",
    "version": 3
   },
   "file_extension": ".py",
   "mimetype": "text/x-python",
   "name": "python",
   "nbconvert_exporter": "python",
   "pygments_lexer": "ipython3",
   "version": "3.8.10"
  }
 },
 "nbformat": 4,
 "nbformat_minor": 4
}
