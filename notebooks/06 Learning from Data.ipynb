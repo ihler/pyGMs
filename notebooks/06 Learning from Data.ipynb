{
 "cells": [
  {
   "cell_type": "markdown",
   "metadata": {},
   "source": [
    "# pyGMs Introduction: Learning from Data"
   ]
  },
  {
   "cell_type": "code",
   "execution_count": 1,
   "metadata": {},
   "outputs": [],
   "source": [
    "import numpy as np\n",
    "import pyGMs as gm\n",
    "import matplotlib.pyplot as plt"
   ]
  },
  {
   "cell_type": "markdown",
   "metadata": {},
   "source": [
    "## Data Representations"
   ]
  },
  {
   "cell_type": "markdown",
   "metadata": {},
   "source": [
    "PyGMs assumes discrete random variables whose values are in the range {0..d-1}, e.g.:"
   ]
  },
  {
   "cell_type": "code",
   "execution_count": 2,
   "metadata": {},
   "outputs": [],
   "source": [
    "X = [gm.Var(0,3), gm.Var(1,3), gm.Var(2,2), gm.Var(3,3)]"
   ]
  },
  {
   "cell_type": "markdown",
   "metadata": {},
   "source": [
    "PyGMs assumes discrete random variables whose values are in the range {0..d-1}.\n",
    "\n",
    "To represent single observations, we may use any of several useful structures.  The most common of these is a tuple of integers, e.g.,"
   ]
  },
  {
   "cell_type": "code",
   "execution_count": 3,
   "metadata": {},
   "outputs": [],
   "source": [
    "xe = (0,2,0,1)   # X0=0, X1=2, X2=0, X3=1"
   ]
  },
  {
   "cell_type": "markdown",
   "metadata": {},
   "source": [
    "Another, also useful representation is to use a dict that maps variables (or their integer labels) to values.  This is particularly useful when we want to represent a partial observation, i.e., when some of the variables are observed but not others:"
   ]
  },
  {
   "cell_type": "code",
   "execution_count": 4,
   "metadata": {},
   "outputs": [],
   "source": [
    "xe = {0:2, 3:1}  # X0=2, X3=1, other Xi are unobserved"
   ]
  },
  {
   "cell_type": "markdown",
   "metadata": {},
   "source": [
    "Following standard convention, if we want to represent a partial observation in tuple form, we use the \"not-a-number\" float value:"
   ]
  },
  {
   "cell_type": "code",
   "execution_count": 5,
   "metadata": {},
   "outputs": [],
   "source": [
    "xe = (2,np.nan,np.nan,1)  # X0=2, X3=1; X1, X2 are unobserved"
   ]
  },
  {
   "cell_type": "markdown",
   "metadata": {},
   "source": [
    "Some functions are not equipped to operate with missing values, in which case passing `nan` will usually cause an error.\n",
    "\n",
    "Occasionally, it is useful to represent partial observations using tuple pairs, which specify the variables that are assigned and their values, respectively:"
   ]
  },
  {
   "cell_type": "code",
   "execution_count": 6,
   "metadata": {},
   "outputs": [],
   "source": [
    "Xe = (X[0],X[3]);      # Xe = (0,3) (so, just the labels) also usually works\n",
    "xe = (2,1);            # (Xe,xe) represents X0=2, X3=1, other Xi unobserved"
   ]
  },
  {
   "cell_type": "markdown",
   "metadata": {},
   "source": [
    "For multiple measurements (e.g., a data set), we can use a list of either the tuple or dict representations, so:"
   ]
  },
  {
   "cell_type": "code",
   "execution_count": 7,
   "metadata": {},
   "outputs": [],
   "source": [
    "D_dict = [ {0:2, 3:1}, {0:0, 1:3, 2:0, 3:1} ]    # data set of two points, one partial"
   ]
  },
  {
   "cell_type": "code",
   "execution_count": 8,
   "metadata": {},
   "outputs": [],
   "source": [
    "D_tuple = [ (2,np.nan,np.nan,1), (0,3,0,1) ]      # same data in tuple format"
   ]
  },
  {
   "cell_type": "markdown",
   "metadata": {},
   "source": [
    "There are some helper functions for converting from one data set representation to another, or print them out nicely:"
   ]
  },
  {
   "cell_type": "code",
   "execution_count": 12,
   "metadata": {},
   "outputs": [
    {
     "name": "stdout",
     "output_type": "stream",
     "text": [
      "Data in dict format:\n",
      " [(2, nan, nan, 1), (0, 3, 0, 1)]\n",
      "    => [{0: 2, 3: 1}, {0: 0, 1: 3, 2: 0, 3: 1}]\n",
      "\n",
      "\n",
      "Data in tuple format:\n",
      " [{0: 2, 3: 1}, {0: 0, 1: 3, 2: 0, 3: 1}]\n",
      "    => [(2, nan, nan, 1), (0, 3, 0, 1)]\n",
      "\n",
      "\n",
      "Data in string format: ['2--1', '0301']\n"
     ]
    }
   ],
   "source": [
    "print(f'Data in dict format:\\n {D_tuple}\\n    => {gm.t2d(D_tuple)}\\n\\n')\n",
    "print(f'Data in tuple format:\\n {D_dict}\\n    => {gm.d2t(D_dict)}\\n\\n')\n",
    "print(f'Data in string format: {[gm.d2s(x) for x in D_dict]}')"
   ]
  },
  {
   "cell_type": "markdown",
   "metadata": {},
   "source": [
    "It is sometimes useful to represent the data as a numpy array, which allows some additional convenient operations:"
   ]
  },
  {
   "cell_type": "code",
   "execution_count": 13,
   "metadata": {},
   "outputs": [
    {
     "name": "stdout",
     "output_type": "stream",
     "text": [
      "[[ 2. nan nan  1.]\n",
      " [ 0.  3.  0.  1.]] \n",
      "\n",
      "Data set has [0 1 1 0] missing data in each column.\n"
     ]
    }
   ],
   "source": [
    "D = np.array([ (2,np.nan,np.nan,1), (0,3,0,1) ])\n",
    "print(D,'\\n')\n",
    "print(f'Data set has {np.isnan(D).sum(0)} missing data in each column.')"
   ]
  },
  {
   "cell_type": "markdown",
   "metadata": {},
   "source": [
    "However, numpy arrays should be used with care when interacting with factors, since they (like numpy arrays) have different behavior when indexed by a tuple than when indexed by a list:"
   ]
  },
  {
   "cell_type": "code",
   "execution_count": 14,
   "metadata": {},
   "outputs": [
    {
     "name": "stdout",
     "output_type": "stream",
     "text": [
      "Indexing with a tuple: f[(1,2)]=6.0 gives the value at X0=1,X1=2\n",
      "Indexing with a list: f[[1,2]]=[[4. 5. 6.]\n",
      " [7. 8. 9.]] instead gives two subarrays of f\n"
     ]
    }
   ],
   "source": [
    "f = gm.Factor([X[0],X[1]], [[1,2,3],[4,5,6],[7,8,9]])\n",
    "print(f'Indexing with a tuple: f[(1,2)]={f[(1,2)]} gives the value at X0=1,X1=2')\n",
    "print(f'Indexing with a list: f[[1,2]]={f[[1,2]]} instead gives two subarrays of f')    "
   ]
  },
  {
   "cell_type": "code",
   "execution_count": null,
   "metadata": {},
   "outputs": [],
   "source": []
  },
  {
   "cell_type": "markdown",
   "metadata": {},
   "source": [
    "## Assessing Model Fit\n",
    "\n",
    "One of the most basic things we might like to do is evaluate whether our model \"fits\" a set of observed data.  Typically, we score this using the likelihood of the data under the model.  Let us use the Alarm Bayesian network to illustrate computing the data likelihood:"
   ]
  },
  {
   "cell_type": "code",
   "execution_count": 15,
   "metadata": {},
   "outputs": [],
   "source": [
    "B = gm.Var(0,2)   # Was there a burglary at Sherlock Holmes' house?\n",
    "E = gm.Var(1,2)   # Was there an earthquake?\n",
    "A = gm.Var(2,2)   # Has the alarm gone off?\n",
    "W = gm.Var(3,2)   # Has Watson called to complain?\n",
    "H = gm.Var(4,2)   # Has Mrs Hudson called to complain?\n",
    "\n",
    "X = [B,E,A,W,H]   # we'll often refer to variables as Xi or X[i]\n",
    "\n",
    "names = dict( (eval(n).label,n) for n in ['B','E','A','W','H'])\n",
    "\n",
    "p_E = gm.Factor([E], [.998, .002]) # probability of earthquake (false,true)\n",
    "p_B = gm.Factor([B], [.999, .001]) # probability of burglary\n",
    "p_A_BE = gm.Factor([A,B,E], 0.0)   # alarm given B,E\n",
    "# Set  B,E,A                       # \n",
    "p_A_BE[0,0,:] = [.999, .001]       # \n",
    "p_A_BE[0,1,:] = [.710, .290]       \n",
    "p_A_BE[1,0,:] = [.060, .940]       # For each setting (b,e), the table should sum to one over A\n",
    "p_A_BE[1,1,:] = [.050, .950]       #   so that it corresponds to a conditional probability\n",
    "\n",
    "p_W_A = gm.Factor([A,W], 0.0)      # Probability that Watson calls given the alarm's status\n",
    "p_W_A[0,:]    = [.95, .05]\n",
    "p_W_A[1,:]    = [.10, .90]\n",
    "\n",
    "p_H_A = gm.Factor([A,H], 0.0)      # Probability that Mrs Hudson calls given the alarm's status\n",
    "p_H_A[0,:]    = [.99, .01]\n",
    "p_H_A[1,:]    = [.30, .70]\n",
    "\n",
    "factors = [p_W_A, p_H_A, p_A_BE, p_E, p_B]  # collect all the factors that define the model\n",
    "\n",
    "model = gm.GraphModel([p_E,p_B,p_A_BE,p_W_A,p_H_A])"
   ]
  },
  {
   "cell_type": "markdown",
   "metadata": {},
   "source": [
    "### Data Likelihood"
   ]
  },
  {
   "cell_type": "markdown",
   "metadata": {},
   "source": [
    "Suppose that we observe some data, $D$:"
   ]
  },
  {
   "cell_type": "code",
   "execution_count": 16,
   "metadata": {},
   "outputs": [],
   "source": [
    "D = [(0, 0, 0, 1, 1), (1, 1, 0, 1, 0), (1, 1, 0, 1, 1), (1, 0, 0, 1, 0), (0, 1, 1, 1, 1), \n",
    "     (0, 1, 1, 1, 0), (0, 1, 0, 1, 1), (0, 0, 1, 1, 1), (1, 0, 1, 1, 0), (1, 0, 0, 1, 1)]"
   ]
  },
  {
   "cell_type": "markdown",
   "metadata": {},
   "source": [
    "How likely is this data under our model?  Since our model is normalized, we can compute the log likelihood of each point, $\\log p(x)$, by just evaluating the model at $x$:"
   ]
  },
  {
   "cell_type": "code",
   "execution_count": 17,
   "metadata": {},
   "outputs": [
    {
     "name": "stdout",
     "output_type": "stream",
     "text": [
      "[array([-7.60490546]), array([-19.12387826]), array([-23.71899811]), array([-12.72895061]), array([-7.91551841]), array([-8.76281627]), array([-14.15900137]), array([-7.37279324]), array([-8.28096601]), array([-17.32407046])]\n",
      "\n",
      "Average log-likeliood of D: -12.699189820279875\n"
     ]
    }
   ],
   "source": [
    "LL = [model.logValue(x) for x in D]\n",
    "print(LL)\n",
    "print()\n",
    "print(f'Average log-likeliood of D: {np.mean(LL)}')"
   ]
  },
  {
   "cell_type": "markdown",
   "metadata": {},
   "source": [
    "But what if our model is not normalized?  In that case, we need both $\\log f(x)$, the evaluation of our model at $x$, and also the normalizing constant (or partition function), $Z$:"
   ]
  },
  {
   "cell_type": "code",
   "execution_count": 18,
   "metadata": {},
   "outputs": [
    {
     "name": "stdout",
     "output_type": "stream",
     "text": [
      "[array([-4.65106295]), array([-16.17003574]), array([-20.76515559]), array([-9.77510809]), array([-4.9616759]), array([-5.80897376]), array([-11.20515885]), array([-4.41895073]), array([-5.32712349]), array([-14.37022794])]\n",
      "\n",
      "Average log-likeliood of D given W=1: -9.745347304424087\n"
     ]
    }
   ],
   "source": [
    "model_W = model.copy()\n",
    "model_W.condition({W:1})  # model given that we know Watson called\n",
    "\n",
    "elim = model_W.copy()\n",
    "elim.eliminate(X, 'sum')\n",
    "lnZ = elim.logValue([])\n",
    "\n",
    "LL = [model_W.logValue(x) - lnZ for x in D]\n",
    "print(LL)\n",
    "print()\n",
    "print(f'Average log-likeliood of D given W=1: {np.mean(LL)}')"
   ]
  },
  {
   "cell_type": "markdown",
   "metadata": {},
   "source": [
    "The helper function `loglikelihood` can perform this calculation for you, either calculating log Z, or using a known value if optionally passed:"
   ]
  },
  {
   "cell_type": "code",
   "execution_count": 19,
   "metadata": {},
   "outputs": [
    {
     "name": "stdout",
     "output_type": "stream",
     "text": [
      "[[ -4.65106295]\n",
      " [-16.17003574]\n",
      " [-20.76515559]\n",
      " [ -9.77510809]\n",
      " [ -4.9616759 ]\n",
      " [ -5.80897376]\n",
      " [-11.20515885]\n",
      " [ -4.41895073]\n",
      " [ -5.32712349]\n",
      " [-14.37022794]]\n"
     ]
    }
   ],
   "source": [
    "LL = gm.loglikelihood(model_W,D)   # pass \"logZ=lnZ\" if lnZ is already calculated\n",
    "print(LL)"
   ]
  },
  {
   "cell_type": "markdown",
   "metadata": {},
   "source": [
    "### Pseudo-likelihood"
   ]
  },
  {
   "cell_type": "markdown",
   "metadata": {},
   "source": [
    "Unfortunately, a major complication of using log-likelihood for scoring models is the requirement of calculating the log partition function, which can be computationally difficult.  The computationally simpler \"pseudo-likelihood\" is sometimes used in its place:"
   ]
  },
  {
   "cell_type": "code",
   "execution_count": 20,
   "metadata": {},
   "outputs": [
    {
     "name": "stdout",
     "output_type": "stream",
     "text": [
      "[ -5.4225763  -20.61720497 -30.64518144 -14.19056285  -1.36277531\n",
      "  -2.57890251 -17.40618398  -2.06181856  -1.94167805 -24.21651688]\n"
     ]
    }
   ],
   "source": [
    "PLL = gm.pseudologlikelihood(model_W,np.array(D))\n",
    "print(PLL)"
   ]
  },
  {
   "cell_type": "markdown",
   "metadata": {},
   "source": [
    "While not the same as likelihood, the pseudolikelihood can be used to assess relative fit or guide a learning process.  We can see that in our example samples, the log-likelihood and pseudo-loglikelihood are correlated, with data points exhibiting either relatively lower values or higher values for both:"
   ]
  },
  {
   "cell_type": "code",
   "execution_count": 21,
   "metadata": {},
   "outputs": [
    {
     "data": {
      "image/png": "[encoded data removed]",
      "text/plain": [
       "<Figure size 432x288 with 1 Axes>"
      ]
     },
     "metadata": {
      "needs_background": "light"
     },
     "output_type": "display_data"
    }
   ],
   "source": [
    "plt.plot(LL,PLL,'b.',ms=12);"
   ]
  },
  {
   "cell_type": "markdown",
   "metadata": {},
   "source": [
    "## Fitting a Model to Data"
   ]
  },
  {
   "cell_type": "markdown",
   "metadata": {},
   "source": [
    "We can divide the problem of learning a model from data into two cases: first, where the model and its structure are unknown, and second, the (easier) case in which the model's structure is known, and we only need to learn its parameter values (e.g., the conditional probabilities of a Bayesian network).\n",
    "\n",
    "**Note:** In general, pyGMs uses `fit_x` to indicate functions that operate directly from the data to select the model in full, i.e., structure and parameter learning.  We use `refit_x` to indicate functions that take an existing model structure and update its parameters (probabilities, etc.) to fit the data set, i.e., parameter learning only.\n",
    "\n",
    "Let's consider the simpler case first.  If we know the model structure, the most common approach is to select the model parameters that maximize the likelihood of our data, i.e., maximum likelihood learning."
   ]
  },
  {
   "cell_type": "markdown",
   "metadata": {},
   "source": [
    "### Empirical probabilities\n",
    "\n",
    "We saw in the case of a Bayesian network that the maximum likelihood solution is simply given by matching the empirical probabilities in the data. If our data are:"
   ]
  },
  {
   "cell_type": "code",
   "execution_count": 22,
   "metadata": {},
   "outputs": [],
   "source": [
    "D = [(1, 0, 1, 1, 0), (0, 1, 0, 1, 1), (0, 1, 1, 0, 1), (1, 1, 1, 1, 0), (0, 1, 1, 1, 1), \n",
    "     (1, 1, 1, 1, 0), (1, 1, 1, 1, 0), (0, 1, 1, 1, 0), (0, 1, 1, 0, 0), (1, 0, 1, 0, 1)]"
   ]
  },
  {
   "cell_type": "markdown",
   "metadata": {},
   "source": [
    "we can conveniently count the data matching various patterns using a helper function, `empirical()`:"
   ]
  },
  {
   "cell_type": "code",
   "execution_count": 23,
   "metadata": {},
   "outputs": [
    {
     "name": "stdout",
     "output_type": "stream",
     "text": [
      "Empirical returns a list of the empirical estimates: [Factor({0},[0x153f700])]\n",
      "each of which has the empirical counts for configurations of those variables: [5. 5.]\n"
     ]
    }
   ],
   "source": [
    "clique_list = [ [X[0]] ]\n",
    "phat_list = gm.misc.empirical(clique_list, D)\n",
    "print(f'Empirical returns a list of the empirical estimates: {phat_list}')\n",
    "print(f'each of which has the empirical counts for configurations of those variables: {phat_list[0].table}')"
   ]
  },
  {
   "cell_type": "markdown",
   "metadata": {},
   "source": [
    "There is a parameter `normalize` which we can use to divide by the total number of data, e.g., resulting in estimated probabilities `[0.5, 0.5]` instead of counts `[5,5]`.\n",
    "\n",
    "If we have a list of conditional probabilities to estimate, we can compute the empirical counts for those subsets of variables, and then normalize them in a conditional manner, so that each \"row\" of the tables corresponding to the child variable sums to one. Specifically, for every possible configuration of the parent variables, we sum over the child variable and normalize using that value:"
   ]
  },
  {
   "cell_type": "code",
   "execution_count": 24,
   "metadata": {},
   "outputs": [],
   "source": [
    "model_factors = [p_E,p_B,p_A_BE,p_W_A,p_H_A]  # to easily access the cliques we'll need\n",
    "\n",
    "phat_factors = gm.misc.empirical([f.vars for f in model_factors], D)\n",
    "\n",
    "# phat_factors is a list of each estimated counts; let's give them names:\n",
    "ph_E, ph_B, ph_ABE, ph_WA, ph_HA = phat_factors\n",
    "\n",
    "# Some of our configurations are zero, since we only have 10 data points.\n",
    "# To avoid dividing by zero, let's add a small value to ensure positivity:\n",
    "for f in [ph_E,ph_B,ph_ABE,ph_WA,ph_HA]: f+=1e-6  \n",
    "\n",
    "# Now, normalize each factor as desired:\n",
    "ph_E = ph_E/ph_E.sum()\n",
    "ph_B = ph_B/ph_B.sum()\n",
    "ph_A_BE = ph_ABE/ph_ABE.sum([A])\n",
    "ph_W_A = ph_WA/ph_WA.sum([W])\n",
    "ph_H_A = ph_HA/ph_HA.sum([H])\n",
    "\n",
    "# Now we can create a Bayes net out of these empirical conditional probabilties:\n",
    "model_estimate = gm.GraphModel([ph_E,ph_B,ph_A_BE,ph_W_A,ph_H_A])"
   ]
  },
  {
   "cell_type": "markdown",
   "metadata": {},
   "source": [
    "We can see that the resulting parameters do, indeed, increase the log-likelihood of the training data. (In this case, the fact that we have very few training data to fit these parameters may indicate *overfitting*, of course.)"
   ]
  },
  {
   "cell_type": "code",
   "execution_count": 25,
   "metadata": {},
   "outputs": [
    {
     "name": "stdout",
     "output_type": "stream",
     "text": [
      "Original parameters average LL: -11.327094860309254\n",
      "After setting parameters using maximum likelihood: -2.589476718797504\n"
     ]
    }
   ],
   "source": [
    "LL_original = gm.loglikelihood(model,D)   # pass \"logZ=lnZ\" if lnZ is already calculated\n",
    "print(f'Original parameters average LL: {LL_original.mean()}')\n",
    "\n",
    "LL_maxll = gm.loglikelihood(model_estimate,D)   \n",
    "print(f'After setting parameters using maximum likelihood: {LL_maxll.mean()}')"
   ]
  },
  {
   "cell_type": "markdown",
   "metadata": {},
   "source": [
    "## Structure Learning\n",
    "\n",
    "When we do not know the structure of the model, we need to search or select over possible structures.  It turns out this is easy to do if we would like to select the **tree** (each node has at most one parent) that results in the maximum likelihood of the data."
   ]
  },
  {
   "cell_type": "markdown",
   "metadata": {},
   "source": [
    "### Chow-Liu Trees\n",
    "We can efficiently find both the tree structure and parameters that maximize the likelihood of our data over all tree-structured graphs using an algorithm known as Chow-Liu:"
   ]
  },
  {
   "cell_type": "code",
   "execution_count": 26,
   "metadata": {},
   "outputs": [
    {
     "data": {
      "image/png": "[encoded data removed]",
      "text/plain": [
       "<Figure size 432x288 with 1 Axes>"
      ]
     },
     "metadata": {},
     "output_type": "display_data"
    }
   ],
   "source": [
    "# Note: currently expects data in array or list of tuples form\n",
    "model_cl = gm.fit_chowliu(np.array(D))\n",
    "\n",
    "fig,ax=plt.subplots(1,1); ax.set_axis_off();\n",
    "gm.drawMarkovGraph(model_cl,node_color='w');"
   ]
  },
  {
   "cell_type": "markdown",
   "metadata": {},
   "source": [
    "We can pick any of these nodes as the root, and orient a Bayes net away from the root to form a tree. \n",
    "\n",
    "Since a more complex model can always fit the data better, Chow-Liu will inevitably choose a fully connected tree.\n",
    "However, `fit_chowliu` can add a BIC complexity penalty that allows it to select a forest, i.e., select fewer edges when they do not improve the log likelihood sufficiently.  Data can also be given weights, for example data from importance sampling, or weighted data during expectation-maximization learning."
   ]
  },
  {
   "cell_type": "code",
   "execution_count": null,
   "metadata": {},
   "outputs": [],
   "source": []
  },
  {
   "cell_type": "markdown",
   "metadata": {},
   "source": [
    "#### <span style=\"color:red\"> TODO: possible topics to add? </span>\n",
    "\n",
    "Fit methods\n",
    "* Chow Liu\n",
    "* BN Brute Force\n",
    "* ILP optimization\n",
    "* Group-L1-penalized PLL\n",
    "* Independence tests\n",
    "* Greedy?\n",
    "\n",
    "Refit methods\n",
    "* PLL (sgd; scipy.opt)\n",
    "* Gradient (estimator?)\n",
    "  * JT/MC/MCMC/Decomp/Var - work per gradient step?\n",
    "* IPF\n",
    "  * Infer method? VE/JT/etc\n",
    "  * \"full fit\" vs fixed point update (gradient like?)\n"
   ]
  },
  {
   "cell_type": "code",
   "execution_count": null,
   "metadata": {},
   "outputs": [],
   "source": []
  },
  {
   "cell_type": "code",
   "execution_count": null,
   "metadata": {},
   "outputs": [],
   "source": []
  }
 ],
 "metadata": {
  "kernelspec": {
   "display_name": "Python 3 (ipykernel)",
   "language": "python",
   "name": "python3"
  },
  "language_info": {
   "codemirror_mode": {
    "name": "ipython",
    "version": 3
   },
   "file_extension": ".py",
   "mimetype": "text/x-python",
   "name": "python",
   "nbconvert_exporter": "python",
   "pygments_lexer": "ipython3",
   "version": "3.11.7"
  }
 },
 "nbformat": 4,
 "nbformat_minor": 4
}
