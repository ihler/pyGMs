{
 "cells": [
  {
   "cell_type": "markdown",
   "metadata": {},
   "source": [
    "# pyGMs Introduction: Variables and Factors"
   ]
  },
  {
   "cell_type": "markdown",
   "metadata": {},
   "source": [
    "`pyGMs` is a simple toolkit for working with (usually probabilistic) graphical models, which are high-dimensional functions, for example a probability distribution over many variables, that can be represented as a collection of smaller functions, or \"factors\", that each involve only a few variables at a time.\n",
    "\n",
    "In this notebook, we'll go through the `pyGMs` notion of random variables, `gm.Var`, and factors, `gm.Factor`.\n",
    "\n",
    "First, we load the toolkit:"
   ]
  },
  {
   "cell_type": "code",
   "execution_count": 2,
   "metadata": {},
   "outputs": [],
   "source": [
    "import numpy as np\n",
    "import pyGMs as gm\n",
    "import matplotlib.pyplot as plt"
   ]
  },
  {
   "cell_type": "markdown",
   "metadata": {},
   "source": [
    "## Variables"
   ]
  },
  {
   "cell_type": "markdown",
   "metadata": {},
   "source": [
    "Every language or toolkit for reasoning about probabilistic models will contain some mechanism for specifying what are the \"random variables\" of the system, and uniquely identifying them by a name or ID of some kind.\n",
    "\n",
    "In `pyGMs`, this is the `gm.Var` object.  We assume that there are $n$ variables, whose \"global\" names (identities) are simply $X_0,\\ldots,X_{n-1}$; this allows any variable to be identified by a \"unique ID\" (integer). The python object `gm.Var` is a more explicit reference to one of these variables, consisting of a label index (its unique ID) and a number of states (the possible values that $X_i$ can take on, again assumed to be the values $\\{0,...,d-1\\}$)."
   ]
  },
  {
   "cell_type": "code",
   "execution_count": 2,
   "metadata": {},
   "outputs": [],
   "source": [
    "foo = gm.Var(0, 3)   # Define variable \"X0\" taking 3 states; \n",
    "                     # \"foo\" is a python object reference to this variable\n",
    "X0 = foo             # This python variable will be more reflective of its meaning\n",
    "X1 = gm.Var(1, 2)    # Define \"X1\" taking on 2 states to be the python object \"X1\"\n",
    "X2 = gm.Var(2, 2)    # Define \"X2\" taking on 2 states, also"
   ]
  },
  {
   "cell_type": "markdown",
   "metadata": {},
   "source": [
    "Variables are pretty minimal; we can get their label (ID) and number of states, and that's about it:"
   ]
  },
  {
   "cell_type": "code",
   "execution_count": 3,
   "metadata": {},
   "outputs": [
    {
     "name": "stdout",
     "output_type": "stream",
     "text": [
      "0\n",
      "3\n"
     ]
    }
   ],
   "source": [
    "print(X0.label)\n",
    "print(X0.states)"
   ]
  },
  {
   "cell_type": "markdown",
   "metadata": {},
   "source": [
    "If we \"print\" a variable, we just show its label (unique ID):"
   ]
  },
  {
   "cell_type": "code",
   "execution_count": 4,
   "metadata": {},
   "outputs": [
    {
     "name": "stdout",
     "output_type": "stream",
     "text": [
      "1\n"
     ]
    }
   ],
   "source": [
    "print(X1)"
   ]
  },
  {
   "cell_type": "markdown",
   "metadata": {},
   "source": [
    "----"
   ]
  },
  {
   "cell_type": "markdown",
   "metadata": {},
   "source": [
    "## Variable Sets"
   ]
  },
  {
   "cell_type": "markdown",
   "metadata": {},
   "source": [
    "Variable sets are (sorted) sets of variables:"
   ]
  },
  {
   "cell_type": "code",
   "execution_count": 5,
   "metadata": {},
   "outputs": [
    {
     "name": "stdout",
     "output_type": "stream",
     "text": [
      "{0,1}\n"
     ]
    }
   ],
   "source": [
    "vs = gm.VarSet([X0,X1])\n",
    "print(vs)"
   ]
  },
  {
   "cell_type": "markdown",
   "metadata": {},
   "source": [
    "They are internally kept sorted for efficiency reasons; so this is the same:"
   ]
  },
  {
   "cell_type": "code",
   "execution_count": 6,
   "metadata": {},
   "outputs": [
    {
     "name": "stdout",
     "output_type": "stream",
     "text": [
      "{0,1}\n"
     ]
    }
   ],
   "source": [
    "vs2 = gm.VarSet([X1,X0])\n",
    "print(vs2)"
   ]
  },
  {
   "cell_type": "code",
   "execution_count": 7,
   "metadata": {},
   "outputs": [
    {
     "data": {
      "text/plain": [
       "True"
      ]
     },
     "execution_count": 7,
     "metadata": {},
     "output_type": "execute_result"
    }
   ],
   "source": [
    "vs==vs2"
   ]
  },
  {
   "cell_type": "markdown",
   "metadata": {},
   "source": [
    "Notionally, a set of variables has a tuple configuration, e.g., $X_0=1$, $X_1=0$ is the same as $(X_0,X_1) = (1,0)$."
   ]
  },
  {
   "cell_type": "markdown",
   "metadata": {},
   "source": [
    "----"
   ]
  },
  {
   "cell_type": "markdown",
   "metadata": {},
   "source": [
    "## Factors"
   ]
  },
  {
   "cell_type": "markdown",
   "metadata": {},
   "source": [
    "Now let's try creating a factor; first we'll create a univariate one:"
   ]
  },
  {
   "cell_type": "code",
   "execution_count": 8,
   "metadata": {},
   "outputs": [],
   "source": [
    "Fa = gm.Factor( [X0], 3.)   # 1st argument: scope of the factor; 2nd: how to fill the table"
   ]
  },
  {
   "cell_type": "code",
   "execution_count": 9,
   "metadata": {},
   "outputs": [
    {
     "name": "stdout",
     "output_type": "stream",
     "text": [
      "Variables:  {0}\n",
      "Table:  [3. 3. 3.]\n"
     ]
    }
   ],
   "source": [
    "print(\"Variables: \",Fa.vars)\n",
    "print(\"Table: \", Fa.table)"
   ]
  },
  {
   "cell_type": "markdown",
   "metadata": {},
   "source": [
    "So, we've create a factor of all \"3.0\" values.  We can access the factor just like an array:"
   ]
  },
  {
   "cell_type": "code",
   "execution_count": 10,
   "metadata": {},
   "outputs": [
    {
     "name": "stdout",
     "output_type": "stream",
     "text": [
      "[1.1 3.  2.2]\n"
     ]
    }
   ],
   "source": [
    "Fa[0] = 1.1\n",
    "Fa[2] = 2.2\n",
    "print(Fa.table)"
   ]
  },
  {
   "cell_type": "markdown",
   "metadata": {},
   "source": [
    "Factor objects have a number of useful methods; for instance, if we would like to normalize Fa to correspond to a probability, we need to compute the sum over all the values of $X_0$:"
   ]
  },
  {
   "cell_type": "code",
   "execution_count": 11,
   "metadata": {},
   "outputs": [
    {
     "data": {
      "text/plain": [
       "6.3"
      ]
     },
     "execution_count": 11,
     "metadata": {},
     "output_type": "execute_result"
    }
   ],
   "source": [
    "Fa.sum()"
   ]
  },
  {
   "cell_type": "markdown",
   "metadata": {},
   "source": [
    "and then normalize the table by dividing by this sum:"
   ]
  },
  {
   "cell_type": "code",
   "execution_count": 12,
   "metadata": {},
   "outputs": [
    {
     "name": "stdout",
     "output_type": "stream",
     "text": [
      "[0.17460317 0.47619048 0.34920635]\n"
     ]
    }
   ],
   "source": [
    "Fa_norm = Fa / Fa.sum()\n",
    "print(Fa_norm.table)"
   ]
  },
  {
   "cell_type": "markdown",
   "metadata": {},
   "source": [
    "We can also make factors over several variables:"
   ]
  },
  {
   "cell_type": "code",
   "execution_count": 13,
   "metadata": {},
   "outputs": [
    {
     "name": "stdout",
     "output_type": "stream",
     "text": [
      "[[0. 0.]\n",
      " [0. 0.]]\n"
     ]
    }
   ],
   "source": [
    "Fb = gm.Factor( [X1,X2], 0.0)\n",
    "print(Fb.table)"
   ]
  },
  {
   "cell_type": "markdown",
   "metadata": {},
   "source": [
    "We access entries in `Fb` using a tuple, e.g.,"
   ]
  },
  {
   "cell_type": "code",
   "execution_count": 14,
   "metadata": {},
   "outputs": [
    {
     "name": "stdout",
     "output_type": "stream",
     "text": [
      "[[1.  0. ]\n",
      " [0.5 1.2]]\n"
     ]
    }
   ],
   "source": [
    "Fb[0,0] = 1.0         # Note: this is the same as, say: Fb[ (0,0) ] = 1.0\n",
    "Fb[1,0] = 0.5\n",
    "Fb[1,1] = 1.2\n",
    "print(Fb.table)"
   ]
  },
  {
   "cell_type": "markdown",
   "metadata": {},
   "source": [
    "Internally, `Fb.table` is a `numpy` array, with an axis for each variable (argument of the factor).\n",
    "\n",
    "In Jupyter, there is a pretty-print function for looking at the whole table, which shows the arguments and table values:"
   ]
  },
  {
   "cell_type": "code",
   "execution_count": 15,
   "metadata": {},
   "outputs": [
    {
     "data": {
      "text/markdown": [
       "| X1 | X2 | | $f(x)$ |\n",
       "| :--: | :--: | :--: | :--: |\n",
       "| 0 | 0 | | 1.0000 |\n",
       "| 0 | 1 | | 0.0000 |\n",
       "| 1 | 0 | | 0.5000 |\n",
       "| 1 | 1 | | 1.2000 |\n"
      ],
      "text/plain": [
       "Factor({1,2},[0x1843420])"
      ]
     },
     "execution_count": 15,
     "metadata": {},
     "output_type": "execute_result"
    }
   ],
   "source": [
    "Fb         # equivalent to \"display(Fb)\"; may not display without re-running the cell"
   ]
  },
  {
   "cell_type": "markdown",
   "metadata": {},
   "source": [
    "**NOTE**: often our tables can be rather large, so the default `print(F)` does not display the entire table, just the list of arguments (the \"scope\" of the factor).  However, for debugging it can be important to know whether two printed factors are the same objects (or more generally, point to the same table in memory), so we also show the table's memory location for disambiguation."
   ]
  },
  {
   "cell_type": "code",
   "execution_count": 15,
   "metadata": {},
   "outputs": [
    {
     "data": {
      "text/markdown": [
       "| X1 | X2 | | $f(x)$ |\n",
       "| :--: | :--: | :--: | :--: |\n",
       "| 0 | 0 | | 1.0000 |\n",
       "| 0 | 1 | | 0.0000 |\n",
       "| 1 | 0 | | 0.5000 |\n",
       "| 1 | 1 | | 1.2000 |\n"
      ],
      "text/plain": [
       "Factor({1,2},[0x1843420])"
      ]
     },
     "execution_count": 15,
     "metadata": {},
     "output_type": "execute_result"
    }
   ],
   "source": [
    "print(Fb)"
   ]
  },
  {
   "cell_type": "markdown",
   "metadata": {},
   "source": [
    "We can also access the factor table entries using the usual \"Variable=Value\" style of probability in math, using a Python `dict`:"
   ]
  },
  {
   "cell_type": "code",
   "execution_count": 16,
   "metadata": {},
   "outputs": [
    {
     "name": "stdout",
     "output_type": "stream",
     "text": [
      "0.5\n",
      "0.5\n"
     ]
    }
   ],
   "source": [
    "print( Fb[ {X1:1, X2:0} ] )\n",
    "# or even just using the ID numbers:\n",
    "print( Fb[ {1:1, 2:0} ])"
   ]
  },
  {
   "cell_type": "markdown",
   "metadata": {},
   "source": [
    "Factors have a number of methods that are useful in the multi-variate case.  For example, we can sum over just one variable, say $X_1$, leaving a function over the other, e.g.:"
   ]
  },
  {
   "cell_type": "code",
   "execution_count": 17,
   "metadata": {},
   "outputs": [
    {
     "name": "stdout",
     "output_type": "stream",
     "text": [
      "Vars: {2} Table: [1.5 1.2]\n"
     ]
    }
   ],
   "source": [
    "Fbsum1 = Fb.sum([X1])\n",
    "print(\"Vars:\",Fbsum1.vars, \"Table:\", Fbsum1.table)"
   ]
  },
  {
   "cell_type": "markdown",
   "metadata": {},
   "source": [
    "so that the result is now a factor over just $X_2$, whose values are `Fb[0,0]+Fb[1,0]` and `Fb[0,1]+Fb[1,1]`.\n",
    "\n",
    "Summing out $X_1$ is equivalent to computing the \"marginal function\" over the remaining variable, $X_2$:"
   ]
  },
  {
   "cell_type": "code",
   "execution_count": 18,
   "metadata": {},
   "outputs": [
    {
     "data": {
      "text/plain": [
       "array([1.5, 1.2])"
      ]
     },
     "execution_count": 18,
     "metadata": {},
     "output_type": "execute_result"
    }
   ],
   "source": [
    "Fb.marginal([2]).table"
   ]
  },
  {
   "cell_type": "markdown",
   "metadata": {},
   "source": [
    "### <span style=\"color:red\"> WARNING </span>\n",
    "Factors store their arguments in sorted order according to the variable labels (IDs), NOT in the order in which they appear when the variable is created.  So, for example:"
   ]
  },
  {
   "cell_type": "code",
   "execution_count": 19,
   "metadata": {},
   "outputs": [
    {
     "name": "stdout",
     "output_type": "stream",
     "text": [
      "Both factors have the same set of arguments:  {1,2} == {1,2}\n",
      "By dict: 3.0\n",
      "Test 1 (0,1): 3.0\n",
      "Test 2 (0,1): 3.0\n"
     ]
    }
   ],
   "source": [
    "Ftest1 = gm.Factor( [X1,X2], 0.); Ftest1[ {X1:0,X2:1} ] = 3.0\n",
    "Ftest2 = gm.Factor( [X2,X1], 0.); Ftest2[ {X1:0,X2:1} ] = 3.0\n",
    "print(\"Both factors have the same set of arguments: \",Ftest1.vars, '==', Ftest2.vars)\n",
    "print(\"By dict:\", Ftest1[{1:0,2:1}] )\n",
    "print(\"Test 1 (0,1):\", Ftest1[0,1])\n",
    "print(\"Test 2 (0,1):\", Ftest2[0,1])   # SAME ORDER even though declared in reverse"
   ]
  },
  {
   "cell_type": "markdown",
   "metadata": {},
   "source": [
    "This means that if you use the simple and convienent form of \"tuple\" indexing, you should be very careful of the order your variables are labelled (ID number).  To avoid confusion, it's usually a good idea to always create your factors using variables that are already in label-sorted order.\n",
    "\n",
    "This ambiguity is a necessary byproduct of the convenience of accessing the factor's entries using only a tuple of values -- since many of the functions we will build are created automatically, we need a consistent way of addressing them."
   ]
  },
  {
   "cell_type": "code",
   "execution_count": null,
   "metadata": {},
   "outputs": [],
   "source": []
  },
  {
   "cell_type": "markdown",
   "metadata": {},
   "source": [
    "----"
   ]
  },
  {
   "cell_type": "markdown",
   "metadata": {},
   "source": [
    "## Factor operations"
   ]
  },
  {
   "cell_type": "markdown",
   "metadata": {},
   "source": [
    "Factors associate a (tabular) function with a set of arguments, which allows us to keep track of how they should be combined mathematically.  So, for example, the function\n",
    "$$ F(X_0,X_1,X_2) = F_b(X_1,X_2) + F_a(X_0) $$\n",
    "can be directly computed as,"
   ]
  },
  {
   "cell_type": "code",
   "execution_count": 20,
   "metadata": {},
   "outputs": [
    {
     "name": "stdout",
     "output_type": "stream",
     "text": [
      "F arguments:  {0,1,2}\n",
      "Table shape: (3, 2, 2)\n",
      "Table entries:\n",
      "[[[2.1 1.1]\n",
      "  [1.6 2.3]]\n",
      "\n",
      " [[4.  3. ]\n",
      "  [3.5 4.2]]\n",
      "\n",
      " [[3.2 2.2]\n",
      "  [2.7 3.4]]]\n"
     ]
    }
   ],
   "source": [
    "F = Fb + Fa\n",
    "print(\"F arguments: \", F.vars)\n",
    "print(\"Table shape:\", F.table.shape)  # equivalent to F.dims() \n",
    "print(\"Table entries:\")\n",
    "print(F.table)"
   ]
  },
  {
   "cell_type": "markdown",
   "metadata": {},
   "source": [
    "and we can address this function with any joint configuration of $(X_0,X_1,X_2)$ (again, in sorted order!):"
   ]
  },
  {
   "cell_type": "code",
   "execution_count": 21,
   "metadata": {},
   "outputs": [
    {
     "name": "stdout",
     "output_type": "stream",
     "text": [
      "F[0,0,0] = 2.1\n",
      "F[2,1,0] = 2.7\n"
     ]
    }
   ],
   "source": [
    "print(\"F[0,0,0] =\", F[0,0,0])   # = Fa(0) + Fb(0,0) = 1.1 + 1.\n",
    "print(\"F[2,1,0] =\", F[2,1,0])   # = Fa(2) + Fb(1,0) = 2.2 + 0.5"
   ]
  },
  {
   "cell_type": "markdown",
   "metadata": {},
   "source": [
    "### Extracting sub-tables"
   ]
  },
  {
   "cell_type": "markdown",
   "metadata": {},
   "source": [
    "We can extract a slice of a tabular function by \"conditioning\" on a known value for one or more of its arguments, e.g.,"
   ]
  },
  {
   "cell_type": "code",
   "execution_count": 22,
   "metadata": {},
   "outputs": [
    {
     "name": "stdout",
     "output_type": "stream",
     "text": [
      "F00 arguments: {1,2}\n",
      "F00 shape: (2, 2)\n",
      "F00 entries:\n",
      "[[2.1 1.1]\n",
      " [1.6 2.3]]\n"
     ]
    }
   ],
   "source": [
    "F00 = F.condition({X0:0})           # Find the subtable where X0=0\n",
    "print(\"F00 arguments:\", F00.vars)\n",
    "print(\"F00 shape:\",F00.dims())\n",
    "print(\"F00 entries:\")\n",
    "print(F00.table)"
   ]
  },
  {
   "cell_type": "markdown",
   "metadata": {},
   "source": [
    "### Elimination Operators"
   ]
  },
  {
   "cell_type": "markdown",
   "metadata": {},
   "source": [
    "We may want to marginalize over some variable, say,\n",
    "$$ F_0(X_0) = \\sum_{x_1} \\sum_{x_2} F(X_0,x_1,x_2) $$"
   ]
  },
  {
   "cell_type": "code",
   "execution_count": 23,
   "metadata": {},
   "outputs": [
    {
     "name": "stdout",
     "output_type": "stream",
     "text": [
      "{0}\n",
      "[ 7.1 14.7 11.5]\n"
     ]
    }
   ],
   "source": [
    "F0 = F.sum([X1,X2])  # or equivalently, F.sum([1,2]) \n",
    "print(F0.vars)\n",
    "print(F0.table)      # the table has an entry for each value of X0, equal to the sum of four entries of F:"
   ]
  },
  {
   "cell_type": "markdown",
   "metadata": {},
   "source": [
    "and similarly for maximizing, minimizing, etc.:\n",
    "$$ G_{02}(X_0,X_2) = \\max_{x_1} F(X_0,x_1,X_2) $$"
   ]
  },
  {
   "cell_type": "code",
   "execution_count": 24,
   "metadata": {},
   "outputs": [
    {
     "name": "stdout",
     "output_type": "stream",
     "text": [
      "{0,2}\n",
      "[[2.1 2.3]\n",
      " [4.  4.2]\n",
      " [3.2 3.4]]\n"
     ]
    }
   ],
   "source": [
    "G01 = F.max( [X1] )\n",
    "print(G01.vars)\n",
    "print(G01.table)    # Table has an entry for each (x0,x2), equal to the largest entry in F for any x1"
   ]
  },
  {
   "cell_type": "markdown",
   "metadata": {},
   "source": [
    "#### Example: conditional distributions\n",
    "The conditional distribution $p(X|Y)$ is given by,\n",
    "$$p(X|Y) = \\frac{p(X,Y)}{p(Y)} = \\frac{p(X,Y)}{\\sum_x p(X,Y)}$$"
   ]
  },
  {
   "cell_type": "code",
   "execution_count": 25,
   "metadata": {},
   "outputs": [
    {
     "name": "stdout",
     "output_type": "stream",
     "text": [
      "{0,2}\n",
      "[[0.22580645 0.23232323]\n",
      " [0.43010753 0.42424242]\n",
      " [0.34408602 0.34343434]]\n"
     ]
    }
   ],
   "source": [
    "p01 = G01 / G01.sum()  # just to make a joint probability table from something\n",
    "\n",
    "p_X0_X1  = G01 / G01.sum([0])  # compute p(X0 | X1)\n",
    "print(p_X0_X1.vars)    # still a function of both X0 and X1\n",
    "print(p_X0_X1.table)   # "
   ]
  },
  {
   "cell_type": "markdown",
   "metadata": {},
   "source": [
    "We can see that each column (index of $X_1$) sums to one over the rows (index of $X_0$), so it defines a conditional distribution."
   ]
  },
  {
   "cell_type": "markdown",
   "metadata": {},
   "source": [
    "### Configurations\n",
    "Configurations of variable sets are typically managed as tuples:"
   ]
  },
  {
   "cell_type": "code",
   "execution_count": 26,
   "metadata": {},
   "outputs": [
    {
     "name": "stdout",
     "output_type": "stream",
     "text": [
      "G01's maximum value is:  4.2\n",
      "The corresponding configuration is:  (1, 1)\n"
     ]
    }
   ],
   "source": [
    "print(\"G01's maximum value is: \", G01.max())\n",
    "print(\"The corresponding configuration is: \", G01.argmax())"
   ]
  },
  {
   "cell_type": "markdown",
   "metadata": {},
   "source": [
    "If a function can be normalized and interpreted as a joint probability, we can sample from it:"
   ]
  },
  {
   "cell_type": "code",
   "execution_count": 27,
   "metadata": {},
   "outputs": [
    {
     "name": "stdout",
     "output_type": "stream",
     "text": [
      "Normalized probabilities from G01:\n",
      "[[0.109375   0.11979167]\n",
      " [0.20833333 0.21875   ]\n",
      " [0.16666667 0.17708333]]\n",
      "\n",
      "3 random samples drawn:\n",
      "[(0, 1), (0, 1), (0, 0)]\n"
     ]
    }
   ],
   "source": [
    "print(\"Normalized probabilities from G01:\")\n",
    "print( (G01/G01.sum()).table )\n",
    "print()\n",
    "print(\"3 random samples drawn:\")\n",
    "print( [G01.sample() for i in range(3)] )  # draw 3 samples"
   ]
  },
  {
   "cell_type": "markdown",
   "metadata": {},
   "source": [
    "Storing a configuration $x$ as a tuple allows us to easily compute G(x), for example:"
   ]
  },
  {
   "cell_type": "code",
   "execution_count": 28,
   "metadata": {},
   "outputs": [
    {
     "name": "stdout",
     "output_type": "stream",
     "text": [
      "[[2.1 2.3]\n",
      " [4.  4.2]\n",
      " [3.2 3.4]] \n",
      "\n",
      "(0, 1)\n",
      "2.3\n"
     ]
    }
   ],
   "source": [
    "print(G01.table,\"\\n\")\n",
    "x = G01.sample()   # sample x from (normalized version of) G01\n",
    "print(x)           # sampled configuration\n",
    "print(G01[x])      # index G using the tuple x"
   ]
  },
  {
   "cell_type": "markdown",
   "metadata": {},
   "source": [
    "Notice, however, that these tuples are only partial configurations of $X$, corresponding to values `(x0,x2)`, the arguments of `G01`.  The tuple form only tells us a sequence of states, not to which variables those states correspond.  Thus for a more precise representation of a partial configuration, we may prefer the `dict` form, `{X0:x0, X2:x2}`."
   ]
  },
  {
   "cell_type": "markdown",
   "metadata": {},
   "source": [
    "### Data Sets\n",
    "A collection of configurations of $X$ is a data set.  We may want to compute the values of several elements of a data set, or use a data set to compute an empirical probability:"
   ]
  },
  {
   "cell_type": "code",
   "execution_count": 29,
   "metadata": {},
   "outputs": [],
   "source": [
    "D = [(1, 1, 1), (2, 0, 0), (1, 0, 0), (1, 1, 1), (1, 0, 1)]"
   ]
  },
  {
   "cell_type": "markdown",
   "metadata": {},
   "source": [
    "Notice that each entry of $D$ is a complete configuration (x0,x1,x2).\n",
    "\n",
    "If the factor of interest is defined on only a subset of $X$, we must extract the part of each data point $x$ that is relevant to that factor, for example:"
   ]
  },
  {
   "cell_type": "code",
   "execution_count": 30,
   "metadata": {},
   "outputs": [
    {
     "data": {
      "text/plain": [
       "[4.2, 3.2, 4.0, 4.2, 4.2]"
      ]
     },
     "execution_count": 30,
     "metadata": {},
     "output_type": "execute_result"
    }
   ],
   "source": [
    "list(G01[{v:x[v] for v in G01.vars}] for x in D)"
   ]
  },
  {
   "cell_type": "markdown",
   "metadata": {},
   "source": [
    "using the dict {Xi:xi} indexing method, or equivalently using tuple-indexing:"
   ]
  },
  {
   "cell_type": "code",
   "execution_count": 31,
   "metadata": {},
   "outputs": [
    {
     "data": {
      "text/plain": [
       "[4.2, 3.2, 4.0, 4.2, 4.2]"
      ]
     },
     "execution_count": 31,
     "metadata": {},
     "output_type": "execute_result"
    }
   ],
   "source": [
    "list(G01[ tuple(x[v] for v in G01.vars) ] for x in D)"
   ]
  },
  {
   "cell_type": "markdown",
   "metadata": {},
   "source": [
    "We may want to use a data set to reason about the empirical frequency of different outcomes.  However, we may not want to compute the empirical joint distribution directly.  The pyGMs library has a helper function to compute the empirical distribution over subsets of variables, returning a list of factors corresponding to the empirical counts:"
   ]
  },
  {
   "cell_type": "code",
   "execution_count": 32,
   "metadata": {},
   "outputs": [
    {
     "name": "stdout",
     "output_type": "stream",
     "text": [
      "Vars: {0} Table: [0. 4. 1.] \n",
      "\n",
      "Vars: {0,2} \n",
      "Table: [[0. 0.]\n",
      " [1. 3.]\n",
      " [1. 0.]]\n"
     ]
    }
   ],
   "source": [
    "phat_list = gm.misc.empirical( [ [X0], [X0,X2] ] , D )  # list of variable sets, then data set\n",
    "\n",
    "phat_X0 = phat_list[0]                                  # First returned factor is over [X0]\n",
    "print(\"Vars:\",phat_X0.vars,\"Table:\",phat_X0.table,\"\\n\")\n",
    "\n",
    "phat_X0X1 = phat_list[1]                                # Second returned factor is over [X0,X2]\n",
    "print(\"Vars:\",phat_X0X1.vars,\"\\nTable:\",phat_X0X1.table)"
   ]
  },
  {
   "cell_type": "code",
   "execution_count": 33,
   "metadata": {},
   "outputs": [
    {
     "data": {
      "text/markdown": [
       "| X0 | | $f(x)$ |\n",
       "| :--: | :--: | :--: |\n",
       "| 0 | | 0.0000 |\n",
       "| 1 | | 4.0000 |\n",
       "| 2 | | 1.0000 |\n"
      ],
      "text/plain": [
       "Factor({0},[0x1b34000])"
      ]
     },
     "metadata": {},
     "output_type": "display_data"
    },
    {
     "data": {
      "text/markdown": [
       "| X0 | X2 | | $f(x)$ |\n",
       "| :--: | :--: | :--: | :--: |\n",
       "| 0 | 0 | | 0.0000 |\n",
       "| 0 | 1 | | 0.0000 |\n",
       "| 1 | 0 | | 1.0000 |\n",
       "| 1 | 1 | | 3.0000 |\n",
       "| 2 | 0 | | 1.0000 |\n",
       "| 2 | 1 | | 0.0000 |\n"
      ],
      "text/plain": [
       "Factor({0,2},[0x1bf6500])"
      ]
     },
     "metadata": {},
     "output_type": "display_data"
    }
   ],
   "source": [
    "for f in phat_list: display(f)"
   ]
  },
  {
   "cell_type": "markdown",
   "metadata": {},
   "source": [
    "## <span style=\"color:red\"> ADVANCED: MEMORY SHARING </span>\n",
    "By default, each factor makes a local copy of the table that defines its values.  In some settings, this leads to inefficient copying and duplication.  If necessary, there is a private method to construct a factor using the table as-is.  However, this option should be used with care.  When shared, any in-place operations performed on one copy of the table will also change the values of the other factor:"
   ]
  },
  {
   "cell_type": "code",
   "execution_count": 10,
   "metadata": {},
   "outputs": [
    {
     "name": "stdout",
     "output_type": "stream",
     "text": [
      "Our table starts off as desired:\n",
      "[[1 0 0]\n",
      " [0 1 0]\n",
      " [0 0 1]]\n",
      "But, if we alter the shared table, it changes the original:\n",
      "[[2 1 1]\n",
      " [1 2 1]\n",
      " [1 1 2]]\n",
      "but does not change a factor with the usual copy behavior:\n",
      "[[1. 0. 0.]\n",
      " [0. 1. 0.]\n",
      " [0. 0. 1.]]\n"
     ]
    }
   ],
   "source": [
    "X = [gm.Var(i,3) for i in range(6)]\n",
    "tab = np.array([[1,0,0],[0,1,0],[0,0,1]])\n",
    "f_orig  = gm.Factor(); f_orig._Factor__build([X[0],X[1]],tab)\n",
    "f_copy  = gm.Factor([X[4],X[5]],tab)\n",
    "\n",
    "print(\"Our table starts off as desired:\")\n",
    "print(f_orig.table)\n",
    "print(\"But, if we alter the shared table, it changes the original:\")\n",
    "tab += 1\n",
    "print(f_orig.table)\n",
    "print(\"but does not change a factor with the usual copy behavior:\")\n",
    "print(f_copy.table)"
   ]
  },
  {
   "cell_type": "code",
   "execution_count": null,
   "metadata": {},
   "outputs": [],
   "source": []
  }
 ],
 "metadata": {
  "kernelspec": {
   "display_name": "Python 3",
   "language": "python",
   "name": "python3"
  },
  "language_info": {
   "codemirror_mode": {
    "name": "ipython",
    "version": 3
   },
   "file_extension": ".py",
   "mimetype": "text/x-python",
   "name": "python",
   "nbconvert_exporter": "python",
   "pygments_lexer": "ipython3",
   "version": "3.8.10"
  }
 },
 "nbformat": 4,
 "nbformat_minor": 4
}
